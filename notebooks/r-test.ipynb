{
 "cells": [
  {
   "cell_type": "code",
   "execution_count": 176,
   "metadata": {},
   "outputs": [],
   "source": [
    "\n",
    "import pandas as pd\n",
    "import numpy as np\n",
    "import matplotlib.pyplot as plt\n",
    "import seaborn as sns\n",
    "\n",
    "from sklearn.preprocessing import LabelEncoder\n",
    "from sklearn.model_selection import train_test_split\n",
    "\n",
    "from sklearn.linear_model import LinearRegression\n",
    "from sklearn.tree import DecisionTreeRegressor\n",
    "from sklearn.ensemble import RandomForestRegressor\n",
    "from sklearn.ensemble import ExtraTreesRegressor\n",
    "from sklearn.ensemble import GradientBoostingRegressor\n",
    "from sklearn.linear_model import Lasso,Ridge\n",
    "from sklearn.model_selection import GridSearchCV\n",
    "from sklearn.model_selection import RandomizedSearchCV\n",
    "from scipy.stats import randint\n",
    "\n",
    "import pickle\n",
    "import xgboost as xgb\n",
    "from sklearn.metrics import mean_absolute_error,mean_squared_error,r2_score"
   ]
  },
  {
   "cell_type": "code",
   "execution_count": 177,
   "metadata": {},
   "outputs": [
    {
     "data": {
      "text/plain": [
       "(538040, 37)"
      ]
     },
     "execution_count": 177,
     "metadata": {},
     "output_type": "execute_result"
    }
   ],
   "source": [
    "df = pd.read_csv('../datasets/Flights_2021/final_dataset-add.csv')\n",
    "df.shape"
   ]
  },
  {
   "cell_type": "code",
   "execution_count": 178,
   "metadata": {},
   "outputs": [
    {
     "name": "stdout",
     "output_type": "stream",
     "text": [
      "ArrDelayMintues (0-100mins) captures this much data -> 0.697212103189354\n",
      "ArrDelayMintues (10-150mins) captures this much data  -> 0.8088710876514758\n",
      "ArrDelayMintues (0-60mins) captures this much data  -> 0.7237844769905584\n"
     ]
    }
   ],
   "source": [
    "arr_delay_0_100 = (df.shape[0] - df[(df[\"ArrDelayMinutes\"] > 0) & (df['ArrDelayMinutes'] < 100)].shape[0])/df.shape[0]\n",
    "print(\"ArrDelayMintues (0-100mins) captures this much data ->\",  arr_delay_0_100 )\n",
    "arr_delay_10_150 = (df.shape[0] - df[(df[\"ArrDelayMinutes\"] > 10) & (df['ArrDelayMinutes'] < 150)].shape[0])/df.shape[0]\n",
    "print(\"ArrDelayMintues (10-150mins) captures this much data  ->\",  arr_delay_10_150 )\n",
    "arr_delay_0_60 = (df.shape[0] - df[(df[\"ArrDelayMinutes\"] > 0) & (df['ArrDelayMinutes'] < 60)].shape[0])/df.shape[0]\n",
    "print(\"ArrDelayMintues (0-60mins) captures this much data  ->\",  arr_delay_0_60 )\n"
   ]
  },
  {
   "cell_type": "markdown",
   "metadata": {},
   "source": [
    "We plan to choose the range that encapsulates most of the data i.e 80% of delayed flights. 80% is relatively high but any delay below 10 min is very normal and above 150min is considered an outier."
   ]
  },
  {
   "cell_type": "markdown",
   "metadata": {},
   "source": [
    "# Remove all flights that had been on time. Now we apply regression to the delayed flights."
   ]
  },
  {
   "cell_type": "code",
   "execution_count": 179,
   "metadata": {},
   "outputs": [
    {
     "data": {
      "text/plain": [
       "(538040, 37)"
      ]
     },
     "execution_count": 179,
     "metadata": {},
     "output_type": "execute_result"
    }
   ],
   "source": [
    "df.shape"
   ]
  },
  {
   "cell_type": "code",
   "execution_count": 180,
   "metadata": {},
   "outputs": [],
   "source": [
    "df = df[df[\"ArrDelayMinutes\"] > 10]"
   ]
  },
  {
   "cell_type": "code",
   "execution_count": 181,
   "metadata": {},
   "outputs": [
    {
     "data": {
      "text/plain": [
       "(110164, 37)"
      ]
     },
     "execution_count": 181,
     "metadata": {},
     "output_type": "execute_result"
    }
   ],
   "source": [
    "df.shape"
   ]
  },
  {
   "cell_type": "code",
   "execution_count": 182,
   "metadata": {},
   "outputs": [],
   "source": [
    "df[\"ArrDelayMinutes\"].value_counts().to_csv('buffer.csv')"
   ]
  },
  {
   "cell_type": "code",
   "execution_count": 183,
   "metadata": {},
   "outputs": [
    {
     "data": {
      "text/plain": [
       "Index(['Unnamed: 0', 'Year', 'Quarter', 'Month', 'DayofMonth', 'DayOfWeek',\n",
       "       'FlightDate', 'Marketing_Airline_Network', 'Operating_Airline ',\n",
       "       'OriginAirportID', 'Origin', 'DestAirportID', 'Dest', 'CRSDepTime',\n",
       "       'DepTime', 'DepDelayMinutes', 'DepDel15', 'TaxiIn', 'CRSArrTime',\n",
       "       'ArrTime', 'ArrDelayMinutes', 'ArrDel15', 'DistanceGroup',\n",
       "       'CombinedDateTime', 'ScaledCRSDepTime', 'temperature_2m',\n",
       "       'relative_humidity_2m', 'dew_point_2m', 'precipitation', 'rain',\n",
       "       'snowfall', 'weather_code', 'surface_pressure', 'cloud_cover',\n",
       "       'wind_speed_10m', 'wind_direction_10m', 'wind_direction_100m'],\n",
       "      dtype='object')"
      ]
     },
     "execution_count": 183,
     "metadata": {},
     "output_type": "execute_result"
    }
   ],
   "source": [
    "df.columns"
   ]
  },
  {
   "cell_type": "code",
   "execution_count": 184,
   "metadata": {},
   "outputs": [],
   "source": [
    "df.drop(columns=[\"FlightDate\",\"OriginAirportID\",\"DestAirportID\",\"CRSArrTime\",\"Unnamed: 0\",\"CombinedDateTime\",\"ScaledCRSDepTime\"],\n",
    "        inplace=True)"
   ]
  },
  {
   "cell_type": "code",
   "execution_count": 185,
   "metadata": {},
   "outputs": [
    {
     "data": {
      "text/plain": [
       "Index(['Year', 'Quarter', 'Month', 'DayofMonth', 'DayOfWeek',\n",
       "       'Marketing_Airline_Network', 'Operating_Airline ', 'Origin', 'Dest',\n",
       "       'CRSDepTime', 'DepTime', 'DepDelayMinutes', 'DepDel15', 'TaxiIn',\n",
       "       'ArrTime', 'ArrDelayMinutes', 'ArrDel15', 'DistanceGroup',\n",
       "       'temperature_2m', 'relative_humidity_2m', 'dew_point_2m',\n",
       "       'precipitation', 'rain', 'snowfall', 'weather_code', 'surface_pressure',\n",
       "       'cloud_cover', 'wind_speed_10m', 'wind_direction_10m',\n",
       "       'wind_direction_100m'],\n",
       "      dtype='object')"
      ]
     },
     "execution_count": 185,
     "metadata": {},
     "output_type": "execute_result"
    }
   ],
   "source": [
    "df.columns"
   ]
  },
  {
   "cell_type": "code",
   "execution_count": 186,
   "metadata": {},
   "outputs": [],
   "source": [
    "df = df[df[\"ArrDelayMinutes\"].notna()]"
   ]
  },
  {
   "cell_type": "code",
   "execution_count": 187,
   "metadata": {},
   "outputs": [
    {
     "data": {
      "image/png": "[encoded data removed]",
      "text/plain": [
       "<Figure size 640x480 with 1 Axes>"
      ]
     },
     "metadata": {},
     "output_type": "display_data"
    }
   ],
   "source": [
    "plt.hist(df['ArrDelayMinutes'], bins=5, edgecolor='black',range=(0, 350))  \n",
    "plt.xlabel('ArrDelayMinutes')\n",
    "plt.ylabel('Frequency')\n",
    "plt.title('Histogram of ArrDelayMinutes')\n",
    "plt.show()"
   ]
  },
  {
   "cell_type": "code",
   "execution_count": 188,
   "metadata": {},
   "outputs": [
    {
     "name": "stdout",
     "output_type": "stream",
     "text": [
      "Max ArrDelayMinutes =  2677.0\n",
      "Min ArrDelayMinutes =  11.0\n"
     ]
    }
   ],
   "source": [
    "print(\"Max ArrDelayMinutes = \", df['ArrDelayMinutes'].max())\n",
    "print(\"Min ArrDelayMinutes = \", df['ArrDelayMinutes'].min())"
   ]
  },
  {
   "cell_type": "markdown",
   "metadata": {},
   "source": [
    "# Remove outlier\n",
    "We don't want to ovetfit our data. So we will set the max delay to 3 hours. "
   ]
  },
  {
   "cell_type": "code",
   "execution_count": 189,
   "metadata": {},
   "outputs": [
    {
     "name": "stdout",
     "output_type": "stream",
     "text": [
      "(110164, 30)\n",
      "(102835, 30)\n"
     ]
    }
   ],
   "source": [
    "print(df.shape)\n",
    "condition = df['ArrDelayMinutes'] < 150  # Remove the last two bins.\n",
    "df = df[condition]\n",
    "print(df.shape)"
   ]
  },
  {
   "cell_type": "code",
   "execution_count": 190,
   "metadata": {},
   "outputs": [],
   "source": [
    "for col in df.columns:\n",
    "    if df[col].isna().sum()>0:\n",
    "        print(col)"
   ]
  },
  {
   "cell_type": "code",
   "execution_count": 191,
   "metadata": {},
   "outputs": [],
   "source": [
    "# Replace LabelEncoder with inbuilt Encoding\n",
    "airportLabel = [\n",
    "    {\"id\": 0, \"code\": \"BWI\"},\n",
    "    {\"id\": 1, \"code\": \"CLT\"},\n",
    "    {\"id\": 2, \"code\": \"DEN\"},\n",
    "    {\"id\": 3, \"code\": \"DFW\"},\n",
    "    {\"id\": 4, \"code\": \"DTW\"},\n",
    "    {\"id\": 5, \"code\": \"IAH\"},\n",
    "    {\"id\": 6, \"code\": \"LAX\"},\n",
    "    {\"id\": 7, \"code\": \"MDW\"},\n",
    "    {\"id\": 8, \"code\": \"ORD\"},\n",
    "    {\"id\": 9, \"code\": \"PHL\"},\n",
    "    {\"id\": 10, \"code\": \"PHX\"},\n",
    "    {\"id\": 11, \"code\": \"SEA\"},\n",
    "    {\"id\": 12, \"code\": \"SFO\"},\n",
    "    {\"id\": 13, \"code\": \"SLC\"}\n",
    "]\n",
    "\n",
    "airport_mapping = {airport['code']: airport['id'] for airport in airportLabel}\n",
    "\n",
    "\n",
    "# Replace Origin and Dest columns with corresponding ids\n",
    "df['Origin'] = df['Origin'].map(airport_mapping)\n",
    "df['Dest'] = df['Dest'].map(airport_mapping)\n",
    "\n",
    "\n",
    "# labelEncoder = LabelEncoder()\n",
    "# df[\"Origin\"] = labelEncoder.fit_transform(df[\"Origin\"])\n",
    "# df[\"Dest\"] = labelEncoder.fit_transform(df[\"Dest\"])\n",
    "\n"
   ]
  },
  {
   "cell_type": "code",
   "execution_count": 192,
   "metadata": {},
   "outputs": [
    {
     "data": {
      "text/plain": [
       "6          3\n",
       "19         3\n",
       "65         4\n",
       "86         4\n",
       "90         4\n",
       "          ..\n",
       "538017    12\n",
       "538018     6\n",
       "538019     6\n",
       "538026     8\n",
       "538031     9\n",
       "Name: Origin, Length: 102835, dtype: int64"
      ]
     },
     "execution_count": 192,
     "metadata": {},
     "output_type": "execute_result"
    }
   ],
   "source": [
    "df['Origin']"
   ]
  },
  {
   "cell_type": "code",
   "execution_count": 193,
   "metadata": {},
   "outputs": [],
   "source": [
    "X = df[[\"Origin\", \"Dest\", \"CRSDepTime\", \"DepDel15\", 'temperature_2m', 'dew_point_2m',\n",
    "       'precipitation','cloud_cover','wind_direction_100m']]\n",
    "y =  np.array(df.loc[:, df.columns == \"ArrDel15\"][\"ArrDel15\"])\n"
   ]
  },
  {
   "cell_type": "code",
   "execution_count": 194,
   "metadata": {},
   "outputs": [
    {
     "name": "stdout",
     "output_type": "stream",
     "text": [
      "\n",
      "Dataset shape: (102835, 30)\n",
      "X train shape: (71984, 9) | Y train shape: (71984,)\n",
      "X test shape: (30851, 9) | Y test shape: (30851,)\n"
     ]
    }
   ],
   "source": [
    "print(f\"\\nDataset shape: {df.shape}\")\n",
    "X_train, X_test, y_train, y_test = train_test_split= train_test_split(X, y, test_size=0.3, random_state=42)\n",
    "print(f\"X train shape: {X_train.shape} | Y train shape: {y_train.shape}\")\n",
    "print(f\"X test shape: {X_test.shape} | Y test shape: {y_test.shape}\")"
   ]
  },
  {
   "cell_type": "code",
   "execution_count": 195,
   "metadata": {},
   "outputs": [],
   "source": [
    "perf_df = pd.DataFrame(columns=[\"Regressors\", \"MSE\", \"RMSE\", \"MAE\", \"R2\"])\n",
    "def print_metrics(labels_test, model_pred, regressor_name, perf_df):\n",
    "    \n",
    "    mse = mean_squared_error(labels_test, model_pred)\n",
    "    rmse = np.sqrt(mse)\n",
    "    mae = mean_absolute_error(labels_test, model_pred)\n",
    "    r2 = r2_score(labels_test, model_pred)\n",
    "    \n",
    "    print(f\"MSE: {mse}\", end=\"\\n\")\n",
    "    print(f\"RMSE: {rmse}\", end=\"\\n\")\n",
    "    print(f\"MAE: {mae}\", end=\"\\n\")\n",
    "    print(f\"R2 Score : {r2}\", end=\"\\n\")\n",
    "    \n",
    "    perf_df = perf_df.append({\"Regressors\": regressor_name,\n",
    "                                \"MSE\": mse, \n",
    "                                \"RMSE\": rmse,\n",
    "                                \"MAE\": mae,\n",
    "                                \"R2\": r2}, ignore_index=True)\n",
    "    return perf_df"
   ]
  },
  {
   "cell_type": "code",
   "execution_count": 196,
   "metadata": {},
   "outputs": [
    {
     "name": "stdout",
     "output_type": "stream",
     "text": [
      "MSE: 0.1233979930759536\n",
      "RMSE: 0.35128050483332207\n",
      "MAE: 0.245157280466231\n",
      "R2 Score : 0.08780884287245438\n"
     ]
    },
    {
     "name": "stderr",
     "output_type": "stream",
     "text": [
      "/var/folders/yl/xw6g0vqx5cqfc51vfpmd7m1m0000gn/T/ipykernel_45589/1708493081.py:14: FutureWarning: The frame.append method is deprecated and will be removed from pandas in a future version. Use pandas.concat instead.\n",
      "  perf_df = perf_df.append({\"Regressors\": regressor_name,\n"
     ]
    }
   ],
   "source": [
    "model = LinearRegression(n_jobs=-1)\n",
    "model.fit(X_train, y_train)\n",
    "yhat = model.predict(X_test)\n",
    "perf_df = print_metrics(y_test, yhat, \"LinearRegression\", perf_df)\n",
    "del model\n",
    "del yhat"
   ]
  },
  {
   "cell_type": "code",
   "execution_count": 197,
   "metadata": {},
   "outputs": [
    {
     "name": "stdout",
     "output_type": "stream",
     "text": [
      "MSE: 0.12337458736646228\n",
      "RMSE: 0.35124718841075764\n",
      "MAE: 0.24562282039330446\n",
      "R2 Score : 0.08798186417281806\n"
     ]
    },
    {
     "name": "stderr",
     "output_type": "stream",
     "text": [
      "/var/folders/yl/xw6g0vqx5cqfc51vfpmd7m1m0000gn/T/ipykernel_45589/1708493081.py:14: FutureWarning: The frame.append method is deprecated and will be removed from pandas in a future version. Use pandas.concat instead.\n",
      "  perf_df = perf_df.append({\"Regressors\": regressor_name,\n"
     ]
    }
   ],
   "source": [
    "param_grid = {'alpha': [0.001, 0.01, 0.1, 1, 10]}\n",
    "\n",
    "lasso_model = Lasso()\n",
    "\n",
    "grid_search = GridSearchCV(lasso_model, param_grid, cv=5)\n",
    "grid_search.fit(X_train, y_train)\n",
    "\n",
    "best_lasso_model = grid_search.best_estimator_\n",
    "\n",
    "yhat = best_lasso_model.predict(X_test)\n",
    "\n",
    "perf_df = print_metrics(y_test, yhat, \"Lasso_GridSearch\", perf_df)\n",
    "del grid_search\n",
    "del yhat"
   ]
  },
  {
   "cell_type": "code",
   "execution_count": 198,
   "metadata": {},
   "outputs": [
    {
     "name": "stdout",
     "output_type": "stream",
     "text": [
      "MSE: 0.12339698836604635\n",
      "RMSE: 0.3512790747625687\n",
      "MAE: 0.24517291775003905\n",
      "R2 Score : 0.08781626995834158\n"
     ]
    },
    {
     "name": "stderr",
     "output_type": "stream",
     "text": [
      "/var/folders/yl/xw6g0vqx5cqfc51vfpmd7m1m0000gn/T/ipykernel_45589/1708493081.py:14: FutureWarning: The frame.append method is deprecated and will be removed from pandas in a future version. Use pandas.concat instead.\n",
      "  perf_df = perf_df.append({\"Regressors\": regressor_name,\n"
     ]
    }
   ],
   "source": [
    "\n",
    "# Define the hyperparameter grid\n",
    "param_grid = {'alpha': [0.001, 0.01, 0.1, 1, 10]}\n",
    "\n",
    "ridge_model = Ridge()\n",
    "grid_search = GridSearchCV(ridge_model, param_grid, cv=5)\n",
    "grid_search.fit(X_train, y_train)\n",
    "\n",
    "best_ridge_model = grid_search.best_estimator_\n",
    "\n",
    "\n",
    "yhat = best_ridge_model.predict(X_test)\n",
    "\n",
    "perf_df = print_metrics(y_test, yhat, \"Ridge_GridSearch\", perf_df)\n",
    "del ridge_model\n",
    "del yhat\n"
   ]
  },
  {
   "cell_type": "code",
   "execution_count": 199,
   "metadata": {},
   "outputs": [
    {
     "name": "stdout",
     "output_type": "stream",
     "text": [
      "MSE: 0.12326878419674508\n",
      "RMSE: 0.351096545407022\n",
      "MAE: 0.2441855383697312\n",
      "R2 Score : 0.08876398966291976\n"
     ]
    },
    {
     "name": "stderr",
     "output_type": "stream",
     "text": [
      "/var/folders/yl/xw6g0vqx5cqfc51vfpmd7m1m0000gn/T/ipykernel_45589/1708493081.py:14: FutureWarning: The frame.append method is deprecated and will be removed from pandas in a future version. Use pandas.concat instead.\n",
      "  perf_df = perf_df.append({\"Regressors\": regressor_name,\n"
     ]
    }
   ],
   "source": [
    "param_grid = {\n",
    "    'max_depth': [None, 5, 7, 12], \n",
    "    'min_samples_split': [2, 5, 7],  \n",
    "    'min_samples_leaf': [1, 2, 4]  \n",
    "}\n",
    "\n",
    "tree_model = DecisionTreeRegressor()\n",
    "\n",
    "grid_search = GridSearchCV(tree_model, param_grid, cv=5)\n",
    "grid_search.fit(X_train, y_train)\n",
    "\n",
    "best_tree_model = grid_search.best_estimator_\n",
    "\n",
    "yhat = best_tree_model.predict(X_test)\n",
    "\n",
    "perf_df = print_metrics(y_test, yhat, \"DecisionTreeRegressor_GridSearch\", perf_df)\n",
    "del tree_model\n",
    "del yhat\n"
   ]
  },
  {
   "cell_type": "code",
   "execution_count": 200,
   "metadata": {},
   "outputs": [
    {
     "name": "stdout",
     "output_type": "stream",
     "text": [
      "MSE: 0.24585102589867427\n",
      "RMSE: 0.4958336675727802\n",
      "MAE: 0.24590775015396585\n",
      "R2 Score : -0.817396913882287\n"
     ]
    },
    {
     "name": "stderr",
     "output_type": "stream",
     "text": [
      "/var/folders/yl/xw6g0vqx5cqfc51vfpmd7m1m0000gn/T/ipykernel_45589/1708493081.py:14: FutureWarning: The frame.append method is deprecated and will be removed from pandas in a future version. Use pandas.concat instead.\n",
      "  perf_df = perf_df.append({\"Regressors\": regressor_name,\n"
     ]
    }
   ],
   "source": [
    "model = DecisionTreeRegressor()\n",
    "model.fit(X_train, y_train)\n",
    "yhat = model.predict(X_test)\n",
    "perf_df = print_metrics(y_test, yhat, \"DecisionTreeRegressor\", perf_df)\n",
    "del model\n",
    "del yhat"
   ]
  },
  {
   "cell_type": "code",
   "execution_count": 201,
   "metadata": {},
   "outputs": [
    {
     "name": "stdout",
     "output_type": "stream",
     "text": [
      "MSE: 0.12554209864833346\n",
      "RMSE: 0.35431920445882337\n",
      "MAE: 0.2570134653994651\n",
      "R2 Score : 0.07195903774743129\n"
     ]
    },
    {
     "name": "stderr",
     "output_type": "stream",
     "text": [
      "/var/folders/yl/xw6g0vqx5cqfc51vfpmd7m1m0000gn/T/ipykernel_45589/1708493081.py:14: FutureWarning: The frame.append method is deprecated and will be removed from pandas in a future version. Use pandas.concat instead.\n",
      "  perf_df = perf_df.append({\"Regressors\": regressor_name,\n"
     ]
    }
   ],
   "source": [
    "\n",
    "param_grid = {\n",
    "    'n_estimators': [5, 7],  \n",
    "    'learning_rate': [0.01, 0.1],  \n",
    "    'max_depth': [3, 4],  \n",
    "    'min_samples_split': [2, 4],  \n",
    "    'min_samples_leaf': [1, 2],  \n",
    "}\n",
    "\n",
    "gb_model = GradientBoostingRegressor()\n",
    "grid_search = GridSearchCV(gb_model, param_grid, cv=5)\n",
    "grid_search.fit(X_train, y_train)\n",
    "\n",
    "best_gb_model = grid_search.best_estimator_\n",
    "yhat = best_gb_model.predict(X_test)\n",
    "\n",
    "perf_df = print_metrics(y_test, yhat, \"GradientBoostingRegressor_GridSearch\", perf_df)\n",
    "del gb_model\n",
    "del yhat"
   ]
  },
  {
   "cell_type": "code",
   "execution_count": 202,
   "metadata": {},
   "outputs": [
    {
     "name": "stdout",
     "output_type": "stream",
     "text": [
      "MSE: 0.12297451804590924\n",
      "RMSE: 0.3506772277264511\n",
      "MAE: 0.24474119759897167\n",
      "R2 Score : 0.09093928420331954\n"
     ]
    },
    {
     "name": "stderr",
     "output_type": "stream",
     "text": [
      "/var/folders/yl/xw6g0vqx5cqfc51vfpmd7m1m0000gn/T/ipykernel_45589/1708493081.py:14: FutureWarning: The frame.append method is deprecated and will be removed from pandas in a future version. Use pandas.concat instead.\n",
      "  perf_df = perf_df.append({\"Regressors\": regressor_name,\n"
     ]
    }
   ],
   "source": [
    "model = GradientBoostingRegressor()\n",
    "model.fit(X_train, y_train)\n",
    "yhat = model.predict(X_test)\n",
    "perf_df = print_metrics(y_test, yhat, \"GradientBoostingRegressor\", perf_df)\n",
    "del model\n",
    "del yhat"
   ]
  },
  {
   "cell_type": "code",
   "execution_count": 203,
   "metadata": {},
   "outputs": [
    {
     "name": "stdout",
     "output_type": "stream",
     "text": [
      "MSE: 0.12314620126133881\n",
      "RMSE: 0.35092193043658415\n",
      "MAE: 0.24450367433765374\n",
      "R2 Score : 0.08967015569451409\n"
     ]
    },
    {
     "name": "stderr",
     "output_type": "stream",
     "text": [
      "/var/folders/yl/xw6g0vqx5cqfc51vfpmd7m1m0000gn/T/ipykernel_45589/1708493081.py:14: FutureWarning: The frame.append method is deprecated and will be removed from pandas in a future version. Use pandas.concat instead.\n",
      "  perf_df = perf_df.append({\"Regressors\": regressor_name,\n"
     ]
    }
   ],
   "source": [
    "param_dist = {\n",
    "    'n_estimators': [5, 6],\n",
    "    'max_depth': [2,4],\n",
    "    'min_samples_split': randint(2, 3),\n",
    "    'min_samples_leaf': randint(1, 3)\n",
    "}\n",
    "\n",
    "rf_model = RandomForestRegressor(n_jobs=-1)\n",
    "random_search = RandomizedSearchCV(rf_model, param_distributions=param_dist, n_iter=10, cv=5)\n",
    "random_search.fit(X_train, y_train)\n",
    "\n",
    "best_random_rf_model = random_search.best_estimator_\n",
    "yhat = best_random_rf_model.predict(X_test)\n",
    "perf_df = print_metrics(y_test, yhat, \"RandomForestRegressor_RandomSearch\", perf_df)\n",
    "\n",
    "del rf_model\n",
    "del yhat\n"
   ]
  },
  {
   "cell_type": "code",
   "execution_count": 204,
   "metadata": {},
   "outputs": [
    {
     "name": "stdout",
     "output_type": "stream",
     "text": [
      "MSE: 0.13313632466538203\n",
      "RMSE: 0.3648785067188557\n",
      "MAE: 0.25088813976856505\n",
      "R2 Score : 0.015820476290311802\n"
     ]
    },
    {
     "name": "stderr",
     "output_type": "stream",
     "text": [
      "/var/folders/yl/xw6g0vqx5cqfc51vfpmd7m1m0000gn/T/ipykernel_45589/1708493081.py:14: FutureWarning: The frame.append method is deprecated and will be removed from pandas in a future version. Use pandas.concat instead.\n",
      "  perf_df = perf_df.append({\"Regressors\": regressor_name,\n"
     ]
    }
   ],
   "source": [
    "model = RandomForestRegressor(n_jobs=-1)\n",
    "model.fit(X_train, y_train)\n",
    "yhat = model.predict(X_test)\n",
    "perf_df = print_metrics(y_test, yhat, \"RandomForestRegressor\", perf_df)\n",
    "del model\n",
    "del yhat"
   ]
  },
  {
   "cell_type": "markdown",
   "metadata": {},
   "source": [
    "ExtraTreesRegressor"
   ]
  },
  {
   "cell_type": "code",
   "execution_count": 205,
   "metadata": {},
   "outputs": [
    {
     "name": "stdout",
     "output_type": "stream",
     "text": [
      "MSE: 0.1380990446014716\n",
      "RMSE: 0.37161679806148645\n",
      "MAE: 0.25101860555573563\n",
      "R2 Score : -0.020865284378543514\n"
     ]
    },
    {
     "name": "stderr",
     "output_type": "stream",
     "text": [
      "/var/folders/yl/xw6g0vqx5cqfc51vfpmd7m1m0000gn/T/ipykernel_45589/1708493081.py:14: FutureWarning: The frame.append method is deprecated and will be removed from pandas in a future version. Use pandas.concat instead.\n",
      "  perf_df = perf_df.append({\"Regressors\": regressor_name,\n"
     ]
    }
   ],
   "source": [
    "model = ExtraTreesRegressor(n_jobs=-1)\n",
    "model.fit(X_train, y_train)\n",
    "yhat = model.predict(X_test)\n",
    "perf_df = print_metrics(y_test, yhat, \"ExtraTreesRegressor\", perf_df)\n",
    "del model\n",
    "del yhat\n"
   ]
  },
  {
   "cell_type": "code",
   "execution_count": 209,
   "metadata": {},
   "outputs": [
    {
     "name": "stdout",
     "output_type": "stream",
     "text": [
      "MSE: 0.12281638002309783\n",
      "RMSE: 0.3504516800118068\n",
      "MAE: 0.24460127279401495\n",
      "R2 Score : 0.09210828300482699\n"
     ]
    },
    {
     "name": "stderr",
     "output_type": "stream",
     "text": [
      "/Users/biraj/yes/envs/env-ait-ml/lib/python3.8/site-packages/xgboost/core.py:160: UserWarning: [08:31:07] WARNING: /Users/runner/work/xgboost/xgboost/src/c_api/c_api.cc:1240: Saving into deprecated binary model format, please consider using `json` or `ubj`. Model format will default to JSON in XGBoost 2.2 if not specified.\n",
      "  warnings.warn(smsg, UserWarning)\n",
      "/var/folders/yl/xw6g0vqx5cqfc51vfpmd7m1m0000gn/T/ipykernel_45589/1708493081.py:14: FutureWarning: The frame.append method is deprecated and will be removed from pandas in a future version. Use pandas.concat instead.\n",
      "  perf_df = perf_df.append({\"Regressors\": regressor_name,\n"
     ]
    }
   ],
   "source": [
    "\n",
    "# Define the hyperparameter grid\n",
    "param_grid = {\n",
    "    'learning_rate': [0.01, 0.1],\n",
    "    'n_estimators': [50, 75],\n",
    "    'max_depth': [3, 5],\n",
    "    'min_child_weight': [1, 3],\n",
    "    'subsample': [0.8, 1.0],\n",
    "    'colsample_bytree': [0.8, 0.9],\n",
    "    'reg_alpha': [0, 0.1, 1],\n",
    "    'reg_lambda': [0, 0.1, 1]\n",
    "}\n",
    "\n",
    "xgb_model = xgb.XGBRegressor()\n",
    "\n",
    "grid_search = GridSearchCV(xgb_model, param_grid, cv=5, scoring='neg_mean_squared_error')\n",
    "grid_search.fit(X_train, y_train)\n",
    "best_xgb_model = grid_search.best_estimator_\n",
    "filename = '../models/regression-xg-boost-1.pkl' \n",
    "best_xgb_model.save_model(filename)\n",
    "\n",
    "# pickle.dump(grid_search, open(filename,'wb'))\n",
    "\n",
    "best_xgb_model = grid_search.best_estimator_\n",
    "yhat = best_xgb_model.predict(X_test)\n",
    "\n",
    "perf_df = print_metrics(y_test, yhat, \"XGBRegressor_GridSearch\", perf_df)\n",
    "del xgb_model\n",
    "del yhat\n"
   ]
  },
  {
   "cell_type": "code",
   "execution_count": 208,
   "metadata": {},
   "outputs": [
    {
     "data": {
      "text/html": [
       "<div>\n",
       "<style scoped>\n",
       "    .dataframe tbody tr th:only-of-type {\n",
       "        vertical-align: middle;\n",
       "    }\n",
       "\n",
       "    .dataframe tbody tr th {\n",
       "        vertical-align: top;\n",
       "    }\n",
       "\n",
       "    .dataframe thead th {\n",
       "        text-align: right;\n",
       "    }\n",
       "</style>\n",
       "<table border=\"1\" class=\"dataframe\">\n",
       "  <thead>\n",
       "    <tr style=\"text-align: right;\">\n",
       "      <th></th>\n",
       "      <th>MSE</th>\n",
       "      <th>RMSE</th>\n",
       "      <th>MAE</th>\n",
       "      <th>R2</th>\n",
       "    </tr>\n",
       "    <tr>\n",
       "      <th>Regressors</th>\n",
       "      <th></th>\n",
       "      <th></th>\n",
       "      <th></th>\n",
       "      <th></th>\n",
       "    </tr>\n",
       "  </thead>\n",
       "  <tbody>\n",
       "    <tr>\n",
       "      <th>LinearRegression</th>\n",
       "      <td>0.123398</td>\n",
       "      <td>0.351281</td>\n",
       "      <td>0.245157</td>\n",
       "      <td>0.087809</td>\n",
       "    </tr>\n",
       "    <tr>\n",
       "      <th>Lasso_GridSearch</th>\n",
       "      <td>0.123375</td>\n",
       "      <td>0.351247</td>\n",
       "      <td>0.245623</td>\n",
       "      <td>0.087982</td>\n",
       "    </tr>\n",
       "    <tr>\n",
       "      <th>Ridge_GridSearch</th>\n",
       "      <td>0.123397</td>\n",
       "      <td>0.351279</td>\n",
       "      <td>0.245173</td>\n",
       "      <td>0.087816</td>\n",
       "    </tr>\n",
       "    <tr>\n",
       "      <th>DecisionTreeRegressor_GridSearch</th>\n",
       "      <td>0.123269</td>\n",
       "      <td>0.351097</td>\n",
       "      <td>0.244186</td>\n",
       "      <td>0.088764</td>\n",
       "    </tr>\n",
       "    <tr>\n",
       "      <th>DecisionTreeRegressor</th>\n",
       "      <td>0.245851</td>\n",
       "      <td>0.495834</td>\n",
       "      <td>0.245908</td>\n",
       "      <td>-0.817397</td>\n",
       "    </tr>\n",
       "    <tr>\n",
       "      <th>GradientBoostingRegressor_GridSearch</th>\n",
       "      <td>0.125542</td>\n",
       "      <td>0.354319</td>\n",
       "      <td>0.257013</td>\n",
       "      <td>0.071959</td>\n",
       "    </tr>\n",
       "    <tr>\n",
       "      <th>GradientBoostingRegressor</th>\n",
       "      <td>0.122975</td>\n",
       "      <td>0.350677</td>\n",
       "      <td>0.244741</td>\n",
       "      <td>0.090939</td>\n",
       "    </tr>\n",
       "    <tr>\n",
       "      <th>RandomForestRegressor_RandomSearch</th>\n",
       "      <td>0.123146</td>\n",
       "      <td>0.350922</td>\n",
       "      <td>0.244504</td>\n",
       "      <td>0.089670</td>\n",
       "    </tr>\n",
       "    <tr>\n",
       "      <th>RandomForestRegressor</th>\n",
       "      <td>0.133136</td>\n",
       "      <td>0.364879</td>\n",
       "      <td>0.250888</td>\n",
       "      <td>0.015820</td>\n",
       "    </tr>\n",
       "    <tr>\n",
       "      <th>ExtraTreesRegressor</th>\n",
       "      <td>0.138099</td>\n",
       "      <td>0.371617</td>\n",
       "      <td>0.251019</td>\n",
       "      <td>-0.020865</td>\n",
       "    </tr>\n",
       "    <tr>\n",
       "      <th>XGBRegressor_GridSearch</th>\n",
       "      <td>0.122816</td>\n",
       "      <td>0.350452</td>\n",
       "      <td>0.244601</td>\n",
       "      <td>0.092108</td>\n",
       "    </tr>\n",
       "  </tbody>\n",
       "</table>\n",
       "</div>"
      ],
      "text/plain": [
       "                                           MSE      RMSE       MAE        R2\n",
       "Regressors                                                                  \n",
       "LinearRegression                      0.123398  0.351281  0.245157  0.087809\n",
       "Lasso_GridSearch                      0.123375  0.351247  0.245623  0.087982\n",
       "Ridge_GridSearch                      0.123397  0.351279  0.245173  0.087816\n",
       "DecisionTreeRegressor_GridSearch      0.123269  0.351097  0.244186  0.088764\n",
       "DecisionTreeRegressor                 0.245851  0.495834  0.245908 -0.817397\n",
       "GradientBoostingRegressor_GridSearch  0.125542  0.354319  0.257013  0.071959\n",
       "GradientBoostingRegressor             0.122975  0.350677  0.244741  0.090939\n",
       "RandomForestRegressor_RandomSearch    0.123146  0.350922  0.244504  0.089670\n",
       "RandomForestRegressor                 0.133136  0.364879  0.250888  0.015820\n",
       "ExtraTreesRegressor                   0.138099  0.371617  0.251019 -0.020865\n",
       "XGBRegressor_GridSearch               0.122816  0.350452  0.244601  0.092108"
      ]
     },
     "execution_count": 208,
     "metadata": {},
     "output_type": "execute_result"
    }
   ],
   "source": [
    "perf_df.set_index(\"Regressors\", inplace=True)\n",
    "perf_df"
   ]
  },
  {
   "cell_type": "code",
   "execution_count": null,
   "metadata": {},
   "outputs": [],
   "source": []
  }
 ],
 "metadata": {
  "kernelspec": {
   "display_name": "env-ait-ml",
   "language": "python",
   "name": "python3"
  },
  "language_info": {
   "codemirror_mode": {
    "name": "ipython",
    "version": 3
   },
   "file_extension": ".py",
   "mimetype": "text/x-python",
   "name": "python",
   "nbconvert_exporter": "python",
   "pygments_lexer": "ipython3",
   "version": "3.8.17"
  }
 },
 "nbformat": 4,
 "nbformat_minor": 2
}
