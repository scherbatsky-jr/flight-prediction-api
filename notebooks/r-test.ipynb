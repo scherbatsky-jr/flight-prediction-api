{
 "cells": [
  {
   "cell_type": "code",
   "execution_count": 16,
   "metadata": {},
   "outputs": [],
   "source": [
    "# Pre-requisites\n",
    "import pandas as pd\n",
    "import numpy as np\n",
    "import matplotlib\n",
    "import matplotlib.pyplot as plt\n",
    "import seaborn as sns\n",
    "\n",
    "# Store the classifier models to save time\n",
    "import joblib\n",
    "\n",
    "# Preprocessing\n",
    "from sklearn.preprocessing import LabelEncoder\n",
    "from sklearn.model_selection import train_test_split\n",
    "\n",
    "# Classifiers from scikit-learn\n",
    "from sklearn.linear_model import LinearRegression\n",
    "from sklearn.tree import DecisionTreeRegressor\n",
    "from sklearn.ensemble import RandomForestRegressor\n",
    "from sklearn.ensemble import ExtraTreesRegressor\n",
    "from sklearn.ensemble import GradientBoostingRegressor\n",
    "from sklearn.linear_model import LogisticRegression\n",
    "from sklearn.tree import DecisionTreeClassifier\n",
    "from sklearn.ensemble import GradientBoostingClassifier\n",
    "from sklearn.ensemble import RandomForestClassifier\n",
    "from sklearn.ensemble import ExtraTreesClassifier\n",
    "\n",
    "# Performance metrics\n",
    "from sklearn.metrics import classification_report,confusion_matrix,accuracy_score,f1_score,mean_absolute_error,mean_squared_error,r2_score\n",
    "from sklearn.metrics import roc_curve\n",
    "from sklearn.metrics import roc_auc_score\n",
    "from sklearn.datasets import make_classification\n",
    "from scipy.stats import pointbiserialr"
   ]
  },
  {
   "cell_type": "code",
   "execution_count": 17,
   "metadata": {},
   "outputs": [
    {
     "data": {
      "text/plain": [
       "(538040, 37)"
      ]
     },
     "execution_count": 17,
     "metadata": {},
     "output_type": "execute_result"
    }
   ],
   "source": [
    "df = pd.read_csv('/Users/biraj/Desktop/Github/flight-prediction-api/datasets/Flights_2021/final_dataset-add.csv')\n",
    "df.shape"
   ]
  },
  {
   "cell_type": "code",
   "execution_count": 18,
   "metadata": {},
   "outputs": [
    {
     "data": {
      "text/plain": [
       "Index(['Unnamed: 0', 'Year', 'Quarter', 'Month', 'DayofMonth', 'DayOfWeek',\n",
       "       'FlightDate', 'Marketing_Airline_Network', 'Operating_Airline ',\n",
       "       'OriginAirportID', 'Origin', 'DestAirportID', 'Dest', 'CRSDepTime',\n",
       "       'DepTime', 'DepDelayMinutes', 'DepDel15', 'TaxiIn', 'CRSArrTime',\n",
       "       'ArrTime', 'ArrDelayMinutes', 'ArrDel15', 'DistanceGroup',\n",
       "       'CombinedDateTime', 'ScaledCRSDepTime', 'temperature_2m',\n",
       "       'relative_humidity_2m', 'dew_point_2m', 'precipitation', 'rain',\n",
       "       'snowfall', 'weather_code', 'surface_pressure', 'cloud_cover',\n",
       "       'wind_speed_10m', 'wind_direction_10m', 'wind_direction_100m'],\n",
       "      dtype='object')"
      ]
     },
     "execution_count": 18,
     "metadata": {},
     "output_type": "execute_result"
    }
   ],
   "source": [
    "df.columns"
   ]
  },
  {
   "cell_type": "code",
   "execution_count": 19,
   "metadata": {},
   "outputs": [],
   "source": [
    "df.drop(columns=[\"FlightDate\",\n",
    "                 \"OriginAirportID\",\n",
    "                 \"DestAirportID\",\n",
    "                 \"CRSArrTime\",\n",
    "                 \"Unnamed: 0\",\n",
    "                 \"CombinedDateTime\",\n",
    "                 \"ScaledCRSDepTime\"],\n",
    "        inplace=True)"
   ]
  },
  {
   "cell_type": "code",
   "execution_count": 20,
   "metadata": {},
   "outputs": [
    {
     "data": {
      "text/plain": [
       "Index(['Year', 'Quarter', 'Month', 'DayofMonth', 'DayOfWeek',\n",
       "       'Marketing_Airline_Network', 'Operating_Airline ', 'Origin', 'Dest',\n",
       "       'CRSDepTime', 'DepTime', 'DepDelayMinutes', 'DepDel15', 'TaxiIn',\n",
       "       'ArrTime', 'ArrDelayMinutes', 'ArrDel15', 'DistanceGroup',\n",
       "       'temperature_2m', 'relative_humidity_2m', 'dew_point_2m',\n",
       "       'precipitation', 'rain', 'snowfall', 'weather_code', 'surface_pressure',\n",
       "       'cloud_cover', 'wind_speed_10m', 'wind_direction_10m',\n",
       "       'wind_direction_100m'],\n",
       "      dtype='object')"
      ]
     },
     "execution_count": 20,
     "metadata": {},
     "output_type": "execute_result"
    }
   ],
   "source": [
    "df.columns"
   ]
  },
  {
   "cell_type": "code",
   "execution_count": 21,
   "metadata": {},
   "outputs": [],
   "source": [
    "df = df[df['ArrDel15'].notna()]"
   ]
  },
  {
   "cell_type": "code",
   "execution_count": 22,
   "metadata": {},
   "outputs": [],
   "source": [
    "for col in df.columns:\n",
    "    if df[col].isna().sum()>0:\n",
    "        print(col)"
   ]
  },
  {
   "cell_type": "code",
   "execution_count": 23,
   "metadata": {},
   "outputs": [],
   "source": [
    "airportLabel = [\n",
    "    {\"id\": 0, \"code\": \"BWI\"},\n",
    "    {\"id\": 1, \"code\": \"CLT\"},\n",
    "    {\"id\": 2, \"code\": \"DEN\"},\n",
    "    {\"id\": 3, \"code\": \"DFW\"},\n",
    "    {\"id\": 4, \"code\": \"DTW\"},\n",
    "    {\"id\": 5, \"code\": \"IAH\"},\n",
    "    {\"id\": 6, \"code\": \"LAX\"},\n",
    "    {\"id\": 7, \"code\": \"MDW\"},\n",
    "    {\"id\": 8, \"code\": \"ORD\"},\n",
    "    {\"id\": 9, \"code\": \"PHL\"},\n",
    "    {\"id\": 10, \"code\": \"PHX\"},\n",
    "    {\"id\": 11, \"code\": \"SEA\"},\n",
    "    {\"id\": 12, \"code\": \"SFO\"},\n",
    "    {\"id\": 13, \"code\": \"SLC\"}\n",
    "]\n",
    "\n",
    "airport_mapping = {airport['code']: airport['id'] for airport in airportLabel}\n",
    "\n",
    "\n",
    "# Replace Origin and Dest columns with corresponding ids\n",
    "df['Origin'] = df['Origin'].map(airport_mapping)\n",
    "df['Dest'] = df['Dest'].map(airport_mapping)\n",
    "\n",
    "\n",
    "# labelEncoder = LabelEncoder()\n",
    "# df[\"Origin\"] = labelEncoder.fit_transform(df[\"Origin\"])\n",
    "# df[\"Dest\"] = labelEncoder.fit_transform(df[\"Dest\"])\n",
    "\n"
   ]
  },
  {
   "cell_type": "code",
   "execution_count": 24,
   "metadata": {},
   "outputs": [
    {
     "data": {
      "text/plain": [
       "0          3\n",
       "1          3\n",
       "2          3\n",
       "3          3\n",
       "4          3\n",
       "          ..\n",
       "538035     5\n",
       "538036     9\n",
       "538037    12\n",
       "538038    12\n",
       "538039    10\n",
       "Name: Origin, Length: 536982, dtype: int64"
      ]
     },
     "execution_count": 24,
     "metadata": {},
     "output_type": "execute_result"
    }
   ],
   "source": [
    "df['Origin']"
   ]
  },
  {
   "cell_type": "code",
   "execution_count": 25,
   "metadata": {},
   "outputs": [],
   "source": [
    "X = df[[\"Quarter\", \"DayofMonth\", \"Origin\", \"Dest\", \"CRSDepTime\", \"DepDel15\", 'temperature_2m', 'relative_humidity_2m', 'dew_point_2m',\n",
    "       'precipitation', 'rain', 'snowfall', 'weather_code', 'surface_pressure','cloud_cover', 'wind_speed_10m','wind_direction_100m']]\n",
    "y =  np.array(df.loc[:, df.columns == \"ArrDel15\"][\"ArrDel15\"])\n"
   ]
  },
  {
   "cell_type": "code",
   "execution_count": 26,
   "metadata": {},
   "outputs": [
    {
     "name": "stdout",
     "output_type": "stream",
     "text": [
      "\n",
      "Dataset shape: (536982, 30)\n",
      "X train shape: (375887, 17) | Y train shape: (375887,)\n",
      "X test shape: (161095, 17) | Y test shape: (161095,)\n"
     ]
    }
   ],
   "source": [
    "print(f\"\\nDataset shape: {df.shape}\")\n",
    "X_train, X_test, y_train, y_test = train_test_split= train_test_split(X, y, test_size=0.3, random_state=42)\n",
    "print(f\"X train shape: {X_train.shape} | Y train shape: {y_train.shape}\")\n",
    "print(f\"X test shape: {X_test.shape} | Y test shape: {y_test.shape}\")"
   ]
  },
  {
   "cell_type": "code",
   "execution_count": 27,
   "metadata": {},
   "outputs": [],
   "source": [
    "perf_df = pd.DataFrame(columns=[\"Regressors\", \"MSE\", \"RMSE\", \"MAE\", \"R2\"])\n",
    "def print_metrics(labels_test, model_pred, regressor_name, perf_df):\n",
    "    \n",
    "    mse = mean_squared_error(labels_test, model_pred)\n",
    "    rmse = np.sqrt(mse)\n",
    "    mae = mean_absolute_error(labels_test, model_pred)\n",
    "    r2 = r2_score(labels_test, model_pred)\n",
    "    \n",
    "    print(f\"MSE      : {mse}\", end=\"\\n\\n\")\n",
    "    print(f\"RMSE     : {rmse}\", end=\"\\n\\n\")\n",
    "    print(f\"MAE      : {mae}\", end=\"\\n\\n\")\n",
    "    print(f\"R2 Score : {r2}\", end=\"\\n\\n\")\n",
    "    \n",
    "    perf_df = perf_df.append({\"Regressors\": regressor_name,\n",
    "                                        \"MSE\": mse, \n",
    "                                        \"RMSE\": rmse,\n",
    "                                        \"MAE\": mae,\n",
    "                                        \"R2\": r2}, ignore_index=True)\n",
    "    return perf_df"
   ]
  },
  {
   "cell_type": "code",
   "execution_count": 28,
   "metadata": {},
   "outputs": [
    {
     "name": "stdout",
     "output_type": "stream",
     "text": [
      "MSE      : 0.07223886825120059\n",
      "\n",
      "RMSE     : 0.26877289344575017\n",
      "\n",
      "MAE      : 0.14383828976455756\n",
      "\n",
      "R2 Score : 0.49537819281347983\n",
      "\n"
     ]
    },
    {
     "name": "stderr",
     "output_type": "stream",
     "text": [
      "/var/folders/yl/xw6g0vqx5cqfc51vfpmd7m1m0000gn/T/ipykernel_38439/713653616.py:14: FutureWarning: The frame.append method is deprecated and will be removed from pandas in a future version. Use pandas.concat instead.\n",
      "  perf_df = perf_df.append({\"Regressors\": regressor_name,\n"
     ]
    }
   ],
   "source": [
    "model = LinearRegression(n_jobs=-1)\n",
    "model.fit(X_train, y_train)\n",
    "# joblib.dump(model, \"./Regressors/LogisticRegression.joblib\")\n",
    "yhat = model.predict(X_test)\n",
    "perf_df = print_metrics(y_test, yhat, \"LinearRegression\", perf_df)\n",
    "del model\n",
    "del yhat"
   ]
  },
  {
   "cell_type": "code",
   "execution_count": 29,
   "metadata": {},
   "outputs": [
    {
     "name": "stdout",
     "output_type": "stream",
     "text": [
      "MSE      : 0.13781533325746367\n",
      "\n",
      "RMSE     : 0.37123487613297285\n",
      "\n",
      "MAE      : 0.13796103748305863\n",
      "\n",
      "R2 Score : 0.03729634461378695\n",
      "\n"
     ]
    },
    {
     "name": "stderr",
     "output_type": "stream",
     "text": [
      "/var/folders/yl/xw6g0vqx5cqfc51vfpmd7m1m0000gn/T/ipykernel_38439/713653616.py:14: FutureWarning: The frame.append method is deprecated and will be removed from pandas in a future version. Use pandas.concat instead.\n",
      "  perf_df = perf_df.append({\"Regressors\": regressor_name,\n"
     ]
    }
   ],
   "source": [
    "model = DecisionTreeRegressor()\n",
    "model.fit(X_train, y_train)\n",
    "# joblib.dump(model, \"./Regressors/DecisionTreeRegressor.joblib\")\n",
    "yhat = model.predict(X_test)\n",
    "perf_df = print_metrics(y_test, yhat, \"DecisionTreeRegressor\", perf_df)\n",
    "del model\n",
    "del yhat"
   ]
  },
  {
   "cell_type": "code",
   "execution_count": 30,
   "metadata": {},
   "outputs": [
    {
     "name": "stdout",
     "output_type": "stream",
     "text": [
      "MSE      : 0.07118261664502697\n",
      "\n",
      "RMSE     : 0.2668007058555636\n",
      "\n",
      "MAE      : 0.1427326265170415\n",
      "\n",
      "R2 Score : 0.5027565973656876\n",
      "\n"
     ]
    },
    {
     "name": "stderr",
     "output_type": "stream",
     "text": [
      "/var/folders/yl/xw6g0vqx5cqfc51vfpmd7m1m0000gn/T/ipykernel_38439/713653616.py:14: FutureWarning: The frame.append method is deprecated and will be removed from pandas in a future version. Use pandas.concat instead.\n",
      "  perf_df = perf_df.append({\"Regressors\": regressor_name,\n"
     ]
    }
   ],
   "source": [
    "model = GradientBoostingRegressor()\n",
    "model.fit(X_train, y_train)\n",
    "# joblib.dump(model, \"./Regressors/GradientBoostingRegressor.joblib\")\n",
    "# model = joblib.load(\"./Regressors/GradientBoostingRegressor.joblib\")\n",
    "yhat = model.predict(X_test)\n",
    "perf_df = print_metrics(y_test, yhat, \"GradientBoostingRegressor\", perf_df)\n",
    "del model\n",
    "del yhat"
   ]
  },
  {
   "cell_type": "code",
   "execution_count": 31,
   "metadata": {},
   "outputs": [
    {
     "name": "stdout",
     "output_type": "stream",
     "text": [
      "MSE      : 0.07623027647194512\n",
      "\n",
      "RMSE     : 0.27609830943333413\n",
      "\n",
      "MAE      : 0.14111868603116468\n",
      "\n",
      "R2 Score : 0.46749636578142684\n",
      "\n"
     ]
    },
    {
     "name": "stderr",
     "output_type": "stream",
     "text": [
      "/var/folders/yl/xw6g0vqx5cqfc51vfpmd7m1m0000gn/T/ipykernel_38439/713653616.py:14: FutureWarning: The frame.append method is deprecated and will be removed from pandas in a future version. Use pandas.concat instead.\n",
      "  perf_df = perf_df.append({\"Regressors\": regressor_name,\n"
     ]
    }
   ],
   "source": [
    "model = RandomForestRegressor(n_jobs=-1)\n",
    "model.fit(X_train, y_train)\n",
    "# joblib.dump(model, \"./Regressors/RandomForestRegressor.joblib\")\n",
    "# model = joblib.load(\"./Regressors/RandomForestRegressor.joblib\")\n",
    "yhat = model.predict(X_test)\n",
    "perf_df = print_metrics(y_test, yhat, \"RandomForestRegressor\", perf_df)\n",
    "del model\n",
    "del model_pred"
   ]
  },
  {
   "cell_type": "code",
   "execution_count": 33,
   "metadata": {},
   "outputs": [
    {
     "name": "stdout",
     "output_type": "stream",
     "text": [
      "MSE      : 0.08196820333757514\n",
      "\n",
      "RMSE     : 0.28630089650152185\n",
      "\n",
      "MAE      : 0.13879062044135448\n",
      "\n",
      "R2 Score : 0.4274143006199176\n",
      "\n"
     ]
    },
    {
     "name": "stderr",
     "output_type": "stream",
     "text": [
      "/var/folders/yl/xw6g0vqx5cqfc51vfpmd7m1m0000gn/T/ipykernel_38439/713653616.py:14: FutureWarning: The frame.append method is deprecated and will be removed from pandas in a future version. Use pandas.concat instead.\n",
      "  perf_df = perf_df.append({\"Regressors\": regressor_name,\n"
     ]
    }
   ],
   "source": [
    "model = ExtraTreesRegressor(n_jobs=-1)\n",
    "model.fit(X_train, y_train)\n",
    "# joblib.dump(model, \"./Regressors/ExtraTreesRegressor.joblib\")\n",
    "# model = joblib.load(\"./Regressors/ExtraTreesRegressor.joblib\")\n",
    "yhat = model.predict(X_test)\n",
    "perf_df = print_metrics(y_test, yhat, \"ExtraTreesRegressor\", perf_df)\n",
    "del model\n",
    "del yhat\n"
   ]
  },
  {
   "cell_type": "code",
   "execution_count": 34,
   "metadata": {},
   "outputs": [
    {
     "data": {
      "text/html": [
       "<div>\n",
       "<style scoped>\n",
       "    .dataframe tbody tr th:only-of-type {\n",
       "        vertical-align: middle;\n",
       "    }\n",
       "\n",
       "    .dataframe tbody tr th {\n",
       "        vertical-align: top;\n",
       "    }\n",
       "\n",
       "    .dataframe thead th {\n",
       "        text-align: right;\n",
       "    }\n",
       "</style>\n",
       "<table border=\"1\" class=\"dataframe\">\n",
       "  <thead>\n",
       "    <tr style=\"text-align: right;\">\n",
       "      <th></th>\n",
       "      <th>MSE</th>\n",
       "      <th>RMSE</th>\n",
       "      <th>MAE</th>\n",
       "      <th>R2</th>\n",
       "    </tr>\n",
       "    <tr>\n",
       "      <th>Regressors</th>\n",
       "      <th></th>\n",
       "      <th></th>\n",
       "      <th></th>\n",
       "      <th></th>\n",
       "    </tr>\n",
       "  </thead>\n",
       "  <tbody>\n",
       "    <tr>\n",
       "      <th>LinearRegression</th>\n",
       "      <td>0.072239</td>\n",
       "      <td>0.268773</td>\n",
       "      <td>0.143838</td>\n",
       "      <td>0.495378</td>\n",
       "    </tr>\n",
       "    <tr>\n",
       "      <th>DecisionTreeRegressor</th>\n",
       "      <td>0.137815</td>\n",
       "      <td>0.371235</td>\n",
       "      <td>0.137961</td>\n",
       "      <td>0.037296</td>\n",
       "    </tr>\n",
       "    <tr>\n",
       "      <th>GradientBoostingRegressor</th>\n",
       "      <td>0.071183</td>\n",
       "      <td>0.266801</td>\n",
       "      <td>0.142733</td>\n",
       "      <td>0.502757</td>\n",
       "    </tr>\n",
       "    <tr>\n",
       "      <th>RandomForestRegressor</th>\n",
       "      <td>0.076230</td>\n",
       "      <td>0.276098</td>\n",
       "      <td>0.141119</td>\n",
       "      <td>0.467496</td>\n",
       "    </tr>\n",
       "    <tr>\n",
       "      <th>ExtraTreesRegressor</th>\n",
       "      <td>0.081936</td>\n",
       "      <td>0.286244</td>\n",
       "      <td>0.138707</td>\n",
       "      <td>0.427642</td>\n",
       "    </tr>\n",
       "    <tr>\n",
       "      <th>ExtraTreesRegressor</th>\n",
       "      <td>0.081968</td>\n",
       "      <td>0.286301</td>\n",
       "      <td>0.138791</td>\n",
       "      <td>0.427414</td>\n",
       "    </tr>\n",
       "  </tbody>\n",
       "</table>\n",
       "</div>"
      ],
      "text/plain": [
       "                                MSE      RMSE       MAE        R2\n",
       "Regressors                                                       \n",
       "LinearRegression           0.072239  0.268773  0.143838  0.495378\n",
       "DecisionTreeRegressor      0.137815  0.371235  0.137961  0.037296\n",
       "GradientBoostingRegressor  0.071183  0.266801  0.142733  0.502757\n",
       "RandomForestRegressor      0.076230  0.276098  0.141119  0.467496\n",
       "ExtraTreesRegressor        0.081936  0.286244  0.138707  0.427642\n",
       "ExtraTreesRegressor        0.081968  0.286301  0.138791  0.427414"
      ]
     },
     "execution_count": 34,
     "metadata": {},
     "output_type": "execute_result"
    }
   ],
   "source": [
    "# Set name of the regressors as index labels\n",
    "perf_df.set_index(\"Regressors\", inplace=True)\n",
    "perf_df"
   ]
  },
  {
   "cell_type": "code",
   "execution_count": null,
   "metadata": {},
   "outputs": [],
   "source": []
  }
 ],
 "metadata": {
  "kernelspec": {
   "display_name": "env-ait-ml",
   "language": "python",
   "name": "python3"
  },
  "language_info": {
   "codemirror_mode": {
    "name": "ipython",
    "version": 3
   },
   "file_extension": ".py",
   "mimetype": "text/x-python",
   "name": "python",
   "nbconvert_exporter": "python",
   "pygments_lexer": "ipython3",
   "version": "3.8.17"
  }
 },
 "nbformat": 4,
 "nbformat_minor": 2
}
