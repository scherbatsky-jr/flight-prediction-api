{
 "cells": [
  {
   "cell_type": "code",
   "execution_count": 77,
   "metadata": {},
   "outputs": [],
   "source": [
    "import pandas as pd"
   ]
  },
  {
   "cell_type": "code",
   "execution_count": 78,
   "metadata": {},
   "outputs": [],
   "source": [
    "airports_to_filter = ('DFW','CLT','ORD','DEN','ALT','SEA','PHX','LAX','DTW','IAH','SLC','PHL','MDW','SFO','BWI')\n",
    "columns_to_use = (\"Year\",\n",
    "          \"Quarter\",\n",
    "          \"Month\",\n",
    "          \"DayofMonth\",\n",
    "          \"FlightDate\",\n",
    "          \"OriginAirportID\",\n",
    "          \"Origin\",\n",
    "          \"DestAirportID\",\n",
    "          \"Dest\",\n",
    "          \"CRSDepTime\",\n",
    "          \"DepTime\",\n",
    "          \"DepDelayMinutes\",\n",
    "          \"DepDel15\",\n",
    "          \"CRSArrTime\",\n",
    "          \"ArrTime\",\n",
    "          \"ArrDelayMinutes\",\n",
    "          \"ArrDel15\",\n",
    "          \"Cancelled\")"
   ]
  },
  {
   "cell_type": "markdown",
   "metadata": {},
   "source": [
    "Filter the dataset using <b>usecols</b> while reading it into pandas."
   ]
  },
  {
   "cell_type": "code",
   "execution_count": 79,
   "metadata": {},
   "outputs": [],
   "source": [
    "df = pd.read_csv('../dataset/Flights_2020_5.csv', usecols=columns_to_use, index_col=False, low_memory=False)"
   ]
  },
  {
   "cell_type": "code",
   "execution_count": 80,
   "metadata": {},
   "outputs": [
    {
     "data": {
      "text/html": [
       "<div>\n",
       "<style scoped>\n",
       "    .dataframe tbody tr th:only-of-type {\n",
       "        vertical-align: middle;\n",
       "    }\n",
       "\n",
       "    .dataframe tbody tr th {\n",
       "        vertical-align: top;\n",
       "    }\n",
       "\n",
       "    .dataframe thead th {\n",
       "        text-align: right;\n",
       "    }\n",
       "</style>\n",
       "<table border=\"1\" class=\"dataframe\">\n",
       "  <thead>\n",
       "    <tr style=\"text-align: right;\">\n",
       "      <th></th>\n",
       "      <th>Year</th>\n",
       "      <th>Quarter</th>\n",
       "      <th>Month</th>\n",
       "      <th>DayofMonth</th>\n",
       "      <th>FlightDate</th>\n",
       "      <th>OriginAirportID</th>\n",
       "      <th>Origin</th>\n",
       "      <th>DestAirportID</th>\n",
       "      <th>Dest</th>\n",
       "      <th>CRSDepTime</th>\n",
       "      <th>DepTime</th>\n",
       "      <th>DepDelayMinutes</th>\n",
       "      <th>DepDel15</th>\n",
       "      <th>CRSArrTime</th>\n",
       "      <th>ArrTime</th>\n",
       "      <th>ArrDelayMinutes</th>\n",
       "      <th>ArrDel15</th>\n",
       "      <th>Cancelled</th>\n",
       "    </tr>\n",
       "  </thead>\n",
       "  <tbody>\n",
       "    <tr>\n",
       "      <th>0</th>\n",
       "      <td>2020</td>\n",
       "      <td>2</td>\n",
       "      <td>5</td>\n",
       "      <td>31</td>\n",
       "      <td>2020-05-31</td>\n",
       "      <td>14570</td>\n",
       "      <td>RNO</td>\n",
       "      <td>14107</td>\n",
       "      <td>PHX</td>\n",
       "      <td>1500</td>\n",
       "      <td>1454.0</td>\n",
       "      <td>0.0</td>\n",
       "      <td>0.0</td>\n",
       "      <td>1645</td>\n",
       "      <td>1636.0</td>\n",
       "      <td>0.0</td>\n",
       "      <td>0.0</td>\n",
       "      <td>0.0</td>\n",
       "    </tr>\n",
       "    <tr>\n",
       "      <th>1</th>\n",
       "      <td>2020</td>\n",
       "      <td>2</td>\n",
       "      <td>5</td>\n",
       "      <td>31</td>\n",
       "      <td>2020-05-31</td>\n",
       "      <td>14570</td>\n",
       "      <td>RNO</td>\n",
       "      <td>14679</td>\n",
       "      <td>SAN</td>\n",
       "      <td>810</td>\n",
       "      <td>810.0</td>\n",
       "      <td>0.0</td>\n",
       "      <td>0.0</td>\n",
       "      <td>940</td>\n",
       "      <td>937.0</td>\n",
       "      <td>0.0</td>\n",
       "      <td>0.0</td>\n",
       "      <td>0.0</td>\n",
       "    </tr>\n",
       "    <tr>\n",
       "      <th>2</th>\n",
       "      <td>2020</td>\n",
       "      <td>2</td>\n",
       "      <td>5</td>\n",
       "      <td>31</td>\n",
       "      <td>2020-05-31</td>\n",
       "      <td>14576</td>\n",
       "      <td>ROC</td>\n",
       "      <td>10821</td>\n",
       "      <td>BWI</td>\n",
       "      <td>1355</td>\n",
       "      <td>1350.0</td>\n",
       "      <td>0.0</td>\n",
       "      <td>0.0</td>\n",
       "      <td>1505</td>\n",
       "      <td>1454.0</td>\n",
       "      <td>0.0</td>\n",
       "      <td>0.0</td>\n",
       "      <td>0.0</td>\n",
       "    </tr>\n",
       "    <tr>\n",
       "      <th>3</th>\n",
       "      <td>2020</td>\n",
       "      <td>2</td>\n",
       "      <td>5</td>\n",
       "      <td>31</td>\n",
       "      <td>2020-05-31</td>\n",
       "      <td>14576</td>\n",
       "      <td>ROC</td>\n",
       "      <td>10821</td>\n",
       "      <td>BWI</td>\n",
       "      <td>1030</td>\n",
       "      <td>1028.0</td>\n",
       "      <td>0.0</td>\n",
       "      <td>0.0</td>\n",
       "      <td>1140</td>\n",
       "      <td>1130.0</td>\n",
       "      <td>0.0</td>\n",
       "      <td>0.0</td>\n",
       "      <td>0.0</td>\n",
       "    </tr>\n",
       "    <tr>\n",
       "      <th>4</th>\n",
       "      <td>2020</td>\n",
       "      <td>2</td>\n",
       "      <td>5</td>\n",
       "      <td>31</td>\n",
       "      <td>2020-05-31</td>\n",
       "      <td>14635</td>\n",
       "      <td>RSW</td>\n",
       "      <td>10397</td>\n",
       "      <td>ATL</td>\n",
       "      <td>1715</td>\n",
       "      <td>1708.0</td>\n",
       "      <td>0.0</td>\n",
       "      <td>0.0</td>\n",
       "      <td>1900</td>\n",
       "      <td>1845.0</td>\n",
       "      <td>0.0</td>\n",
       "      <td>0.0</td>\n",
       "      <td>0.0</td>\n",
       "    </tr>\n",
       "  </tbody>\n",
       "</table>\n",
       "</div>"
      ],
      "text/plain": [
       "   Year  Quarter  Month  DayofMonth  FlightDate  OriginAirportID Origin  \\\n",
       "0  2020        2      5          31  2020-05-31            14570    RNO   \n",
       "1  2020        2      5          31  2020-05-31            14570    RNO   \n",
       "2  2020        2      5          31  2020-05-31            14576    ROC   \n",
       "3  2020        2      5          31  2020-05-31            14576    ROC   \n",
       "4  2020        2      5          31  2020-05-31            14635    RSW   \n",
       "\n",
       "   DestAirportID Dest  CRSDepTime  DepTime  DepDelayMinutes  DepDel15  \\\n",
       "0          14107  PHX        1500   1454.0              0.0       0.0   \n",
       "1          14679  SAN         810    810.0              0.0       0.0   \n",
       "2          10821  BWI        1355   1350.0              0.0       0.0   \n",
       "3          10821  BWI        1030   1028.0              0.0       0.0   \n",
       "4          10397  ATL        1715   1708.0              0.0       0.0   \n",
       "\n",
       "   CRSArrTime  ArrTime  ArrDelayMinutes  ArrDel15  Cancelled  \n",
       "0        1645   1636.0              0.0       0.0        0.0  \n",
       "1         940    937.0              0.0       0.0        0.0  \n",
       "2        1505   1454.0              0.0       0.0        0.0  \n",
       "3        1140   1130.0              0.0       0.0        0.0  \n",
       "4        1900   1845.0              0.0       0.0        0.0  "
      ]
     },
     "execution_count": 80,
     "metadata": {},
     "output_type": "execute_result"
    }
   ],
   "source": [
    "df.head()"
   ]
  },
  {
   "cell_type": "code",
   "execution_count": 81,
   "metadata": {},
   "outputs": [
    {
     "data": {
      "text/plain": [
       "(192412, 18)"
      ]
     },
     "execution_count": 81,
     "metadata": {},
     "output_type": "execute_result"
    }
   ],
   "source": [
    "df.shape"
   ]
  },
  {
   "cell_type": "markdown",
   "metadata": {},
   "source": [
    "# Remove flights that were cancelled"
   ]
  },
  {
   "cell_type": "code",
   "execution_count": 82,
   "metadata": {},
   "outputs": [],
   "source": [
    "cancelled_condition = (df['Cancelled']==1.0)\n",
    "df.drop(df[cancelled_condition].index,inplace=True)"
   ]
  },
  {
   "cell_type": "code",
   "execution_count": 83,
   "metadata": {},
   "outputs": [
    {
     "data": {
      "text/plain": [
       "(180151, 18)"
      ]
     },
     "execution_count": 83,
     "metadata": {},
     "output_type": "execute_result"
    }
   ],
   "source": [
    "df.shape"
   ]
  },
  {
   "cell_type": "markdown",
   "metadata": {},
   "source": [
    "# Filter Origin and Destination\n",
    "We have filtered the dataset to use only the top 15 busiest airport in the United States."
   ]
  },
  {
   "cell_type": "code",
   "execution_count": 84,
   "metadata": {},
   "outputs": [],
   "source": [
    "df = df[df[\"Origin\"].isin(airports_to_filter)]\n",
    "df = df[df[\"Dest\"].isin(airports_to_filter)]"
   ]
  },
  {
   "cell_type": "code",
   "execution_count": 85,
   "metadata": {},
   "outputs": [
    {
     "data": {
      "text/plain": [
       "(18064, 18)"
      ]
     },
     "execution_count": 85,
     "metadata": {},
     "output_type": "execute_result"
    }
   ],
   "source": [
    "df.shape"
   ]
  },
  {
   "cell_type": "markdown",
   "metadata": {},
   "source": [
    "# Function "
   ]
  },
  {
   "cell_type": "code",
   "execution_count": 86,
   "metadata": {},
   "outputs": [],
   "source": [
    "def eda(csv_file):\n",
    "    df = pd.read_csv('./Flights_2021/'+csv_file+'.csv', usecols=columns_to_use, index_col=False, low_memory=False)\n",
    "    # Remove cancelled flights\n",
    "    cancelled_condition = (df['Cancelled']==1.0)\n",
    "    df.drop(df[cancelled_condition].index,inplace=True)\n",
    "    # Filter by airport\n",
    "    df = df[df[\"Origin\"].isin(airports_to_filter)]\n",
    "    df = df[df[\"Dest\"].isin(airports_to_filter)]\n",
    "    df.drop(['Cancelled'], axis=1, inplace=True)\n",
    "    df.to_csv('./Flights_2021-eda1/'+csv_file+'.csv')\n",
    "    return csv_file"
   ]
  },
  {
   "cell_type": "code",
   "execution_count": 87,
   "metadata": {},
   "outputs": [
    {
     "name": "stdout",
     "output_type": "stream",
     "text": [
      "['Flights_2021_1', 'Flights_2021_2', 'Flights_2021_3', 'Flights_2021_4', 'Flights_2021_5', 'Flights_2021_6', 'Flights_2021_7', 'Flights_2021_8', 'Flights_2021_9', 'Flights_2021_10', 'Flights_2021_11', 'Flights_2021_12']\n"
     ]
    }
   ],
   "source": [
    "files = [f'Flights_2021_{i}' for i in range(1, 13)]\n",
    "print(files)"
   ]
  },
  {
   "cell_type": "code",
   "execution_count": 88,
   "metadata": {},
   "outputs": [],
   "source": [
    "for f in files:\n",
    "    eda(f)"
   ]
  },
  {
   "cell_type": "markdown",
   "metadata": {},
   "source": [
    "# Merge all csv to one"
   ]
  },
  {
   "cell_type": "code",
   "execution_count": 89,
   "metadata": {},
   "outputs": [
    {
     "name": "stdout",
     "output_type": "stream",
     "text": [
      "['./Flights_2021-eda1/Flights_2021_1.csv', './Flights_2021-eda1/Flights_2021_2.csv', './Flights_2021-eda1/Flights_2021_3.csv', './Flights_2021-eda1/Flights_2021_4.csv', './Flights_2021-eda1/Flights_2021_5.csv', './Flights_2021-eda1/Flights_2021_6.csv', './Flights_2021-eda1/Flights_2021_7.csv', './Flights_2021-eda1/Flights_2021_8.csv', './Flights_2021-eda1/Flights_2021_9.csv', './Flights_2021-eda1/Flights_2021_10.csv', './Flights_2021-eda1/Flights_2021_11.csv', './Flights_2021-eda1/Flights_2021_12.csv']\n"
     ]
    }
   ],
   "source": [
    "file_paths = [f'./Flights_2021-eda1/Flights_2021_{i}.csv' for i in range(1,13)]\n",
    "print(file_paths)"
   ]
  },
  {
   "cell_type": "code",
   "execution_count": 90,
   "metadata": {},
   "outputs": [],
   "source": [
    "_df = [pd.read_csv(f) for f in file_paths]"
   ]
  },
  {
   "cell_type": "code",
   "execution_count": 91,
   "metadata": {},
   "outputs": [],
   "source": [
    "merged_df = pd.concat(_df, ignore_index=True)"
   ]
  },
  {
   "cell_type": "code",
   "execution_count": 92,
   "metadata": {},
   "outputs": [
    {
     "data": {
      "text/plain": [
       "(538051, 18)"
      ]
     },
     "execution_count": 92,
     "metadata": {},
     "output_type": "execute_result"
    }
   ],
   "source": [
    "merged_df.shape"
   ]
  },
  {
   "cell_type": "code",
   "execution_count": 98,
   "metadata": {},
   "outputs": [
    {
     "data": {
      "text/plain": [
       "Index(['Unnamed: 0', 'Year', 'Quarter', 'Month', 'DayofMonth', 'FlightDate',\n",
       "       'OriginAirportID', 'Origin', 'DestAirportID', 'Dest', 'CRSDepTime',\n",
       "       'DepTime', 'DepDelayMinutes', 'DepDel15', 'CRSArrTime', 'ArrTime',\n",
       "       'ArrDelayMinutes', 'ArrDel15'],\n",
       "      dtype='object')"
      ]
     },
     "execution_count": 98,
     "metadata": {},
     "output_type": "execute_result"
    }
   ],
   "source": [
    "merged_df.columns"
   ]
  },
  {
   "cell_type": "code",
   "execution_count": 99,
   "metadata": {},
   "outputs": [],
   "source": [
    "merged_df.drop(['Unnamed: 0'], axis=1, inplace=True)"
   ]
  },
  {
   "cell_type": "code",
   "execution_count": 100,
   "metadata": {},
   "outputs": [
    {
     "data": {
      "text/plain": [
       "(538051, 17)"
      ]
     },
     "execution_count": 100,
     "metadata": {},
     "output_type": "execute_result"
    }
   ],
   "source": [
    "merged_df.shape"
   ]
  },
  {
   "cell_type": "code",
   "execution_count": 101,
   "metadata": {},
   "outputs": [],
   "source": [
    "merged_df.to_csv('flights_2021_all.csv')"
   ]
  },
  {
   "cell_type": "code",
   "execution_count": null,
   "metadata": {},
   "outputs": [],
   "source": []
  }
 ],
 "metadata": {
  "kernelspec": {
   "display_name": "env-ait-ml",
   "language": "python",
   "name": "python3"
  },
  "language_info": {
   "codemirror_mode": {
    "name": "ipython",
    "version": 3
   },
   "file_extension": ".py",
   "mimetype": "text/x-python",
   "name": "python",
   "nbconvert_exporter": "python",
   "pygments_lexer": "ipython3",
   "version": "3.8.17"
  }
 },
 "nbformat": 4,
 "nbformat_minor": 2
}
