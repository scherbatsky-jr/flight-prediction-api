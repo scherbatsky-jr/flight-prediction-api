{
 "cells": [
  {
   "cell_type": "code",
   "execution_count": 47,
   "metadata": {},
   "outputs": [],
   "source": [
    "import pandas as pd"
   ]
  },
  {
   "cell_type": "markdown",
   "metadata": {},
   "source": [
    "# Prerequisites to /notebooks/eda-1.pynb\n",
    "\n",
    "- Go to this [link](https://www.kaggle.com/datasets/robikscube/flight-delay-dataset-20182022) and download the dataset.\n",
    "- Add 2021 datasets to directory <code> /datasets/Flights_2021/ </code>.\n",
    "- Create a directory <code> /datasets/Flights_2021/ </code> to save the output.\n",
    "\n"
   ]
  },
  {
   "cell_type": "code",
   "execution_count": 48,
   "metadata": {},
   "outputs": [],
   "source": [
    "airports_to_filter = ('DFW','CLT','ORD','DEN','ALT','SEA','PHX','LAX','DTW','IAH','SLC','PHL','MDW','SFO','BWI')\n",
    "columns_to_use = (\"Year\",\n",
    "          \"Quarter\",\n",
    "          \"Month\",\n",
    "          \"DayofMonth\",\n",
    "          \"DayOfWeek\",\n",
    "          \"DistanceGroup\",\n",
    "          \"Operating_Airline \",\n",
    "          \"TaxiIn\",\n",
    "          \"Marketing_Airline_Network\",\n",
    "          \"FlightDate\",\n",
    "          \"OriginAirportID\",\n",
    "          \"Origin\",\n",
    "          \"DestAirportID\",\n",
    "          \"Dest\",\n",
    "          \"CRSDepTime\",\n",
    "          \"DepTime\",\n",
    "          \"DepDelayMinutes\",\n",
    "          \"DepDel15\",\n",
    "          \"CRSArrTime\",\n",
    "          \"ArrTime\",\n",
    "          \"ArrDelayMinutes\",\n",
    "          \"ArrDel15\",\n",
    "          \"Cancelled\")"
   ]
  },
  {
   "cell_type": "markdown",
   "metadata": {},
   "source": [
    "Filter the dataset using <b>usecols</b> while reading it into pandas."
   ]
  },
  {
   "cell_type": "code",
   "execution_count": 49,
   "metadata": {},
   "outputs": [],
   "source": [
    "df = pd.read_csv('../datasets/Flights_2021/Flights_2021_1.csv', usecols=columns_to_use, index_col=False, low_memory=False)"
   ]
  },
  {
   "cell_type": "code",
   "execution_count": 50,
   "metadata": {},
   "outputs": [
    {
     "data": {
      "text/html": [
       "<div>\n",
       "<style scoped>\n",
       "    .dataframe tbody tr th:only-of-type {\n",
       "        vertical-align: middle;\n",
       "    }\n",
       "\n",
       "    .dataframe tbody tr th {\n",
       "        vertical-align: top;\n",
       "    }\n",
       "\n",
       "    .dataframe thead th {\n",
       "        text-align: right;\n",
       "    }\n",
       "</style>\n",
       "<table border=\"1\" class=\"dataframe\">\n",
       "  <thead>\n",
       "    <tr style=\"text-align: right;\">\n",
       "      <th></th>\n",
       "      <th>Year</th>\n",
       "      <th>Quarter</th>\n",
       "      <th>Month</th>\n",
       "      <th>DayofMonth</th>\n",
       "      <th>DayOfWeek</th>\n",
       "      <th>FlightDate</th>\n",
       "      <th>Marketing_Airline_Network</th>\n",
       "      <th>Operating_Airline</th>\n",
       "      <th>OriginAirportID</th>\n",
       "      <th>Origin</th>\n",
       "      <th>...</th>\n",
       "      <th>DepTime</th>\n",
       "      <th>DepDelayMinutes</th>\n",
       "      <th>DepDel15</th>\n",
       "      <th>TaxiIn</th>\n",
       "      <th>CRSArrTime</th>\n",
       "      <th>ArrTime</th>\n",
       "      <th>ArrDelayMinutes</th>\n",
       "      <th>ArrDel15</th>\n",
       "      <th>Cancelled</th>\n",
       "      <th>DistanceGroup</th>\n",
       "    </tr>\n",
       "  </thead>\n",
       "  <tbody>\n",
       "    <tr>\n",
       "      <th>0</th>\n",
       "      <td>2021</td>\n",
       "      <td>1</td>\n",
       "      <td>1</td>\n",
       "      <td>2</td>\n",
       "      <td>6</td>\n",
       "      <td>2021-01-02</td>\n",
       "      <td>DL</td>\n",
       "      <td>9E</td>\n",
       "      <td>11193</td>\n",
       "      <td>CVG</td>\n",
       "      <td>...</td>\n",
       "      <td>733.0</td>\n",
       "      <td>3.0</td>\n",
       "      <td>0.0</td>\n",
       "      <td>13.0</td>\n",
       "      <td>939</td>\n",
       "      <td>927.0</td>\n",
       "      <td>0.0</td>\n",
       "      <td>0.0</td>\n",
       "      <td>0.0</td>\n",
       "      <td>4</td>\n",
       "    </tr>\n",
       "    <tr>\n",
       "      <th>1</th>\n",
       "      <td>2021</td>\n",
       "      <td>1</td>\n",
       "      <td>1</td>\n",
       "      <td>3</td>\n",
       "      <td>7</td>\n",
       "      <td>2021-01-03</td>\n",
       "      <td>DL</td>\n",
       "      <td>9E</td>\n",
       "      <td>11193</td>\n",
       "      <td>CVG</td>\n",
       "      <td>...</td>\n",
       "      <td>727.0</td>\n",
       "      <td>0.0</td>\n",
       "      <td>0.0</td>\n",
       "      <td>10.0</td>\n",
       "      <td>939</td>\n",
       "      <td>924.0</td>\n",
       "      <td>0.0</td>\n",
       "      <td>0.0</td>\n",
       "      <td>0.0</td>\n",
       "      <td>4</td>\n",
       "    </tr>\n",
       "    <tr>\n",
       "      <th>2</th>\n",
       "      <td>2021</td>\n",
       "      <td>1</td>\n",
       "      <td>1</td>\n",
       "      <td>4</td>\n",
       "      <td>1</td>\n",
       "      <td>2021-01-04</td>\n",
       "      <td>DL</td>\n",
       "      <td>9E</td>\n",
       "      <td>11193</td>\n",
       "      <td>CVG</td>\n",
       "      <td>...</td>\n",
       "      <td>737.0</td>\n",
       "      <td>7.0</td>\n",
       "      <td>0.0</td>\n",
       "      <td>7.0</td>\n",
       "      <td>939</td>\n",
       "      <td>938.0</td>\n",
       "      <td>0.0</td>\n",
       "      <td>0.0</td>\n",
       "      <td>0.0</td>\n",
       "      <td>4</td>\n",
       "    </tr>\n",
       "    <tr>\n",
       "      <th>3</th>\n",
       "      <td>2021</td>\n",
       "      <td>1</td>\n",
       "      <td>1</td>\n",
       "      <td>7</td>\n",
       "      <td>4</td>\n",
       "      <td>2021-01-07</td>\n",
       "      <td>DL</td>\n",
       "      <td>9E</td>\n",
       "      <td>11193</td>\n",
       "      <td>CVG</td>\n",
       "      <td>...</td>\n",
       "      <td>1710.0</td>\n",
       "      <td>0.0</td>\n",
       "      <td>0.0</td>\n",
       "      <td>5.0</td>\n",
       "      <td>1912</td>\n",
       "      <td>1911.0</td>\n",
       "      <td>0.0</td>\n",
       "      <td>0.0</td>\n",
       "      <td>0.0</td>\n",
       "      <td>4</td>\n",
       "    </tr>\n",
       "    <tr>\n",
       "      <th>4</th>\n",
       "      <td>2021</td>\n",
       "      <td>1</td>\n",
       "      <td>1</td>\n",
       "      <td>8</td>\n",
       "      <td>5</td>\n",
       "      <td>2021-01-08</td>\n",
       "      <td>DL</td>\n",
       "      <td>9E</td>\n",
       "      <td>11193</td>\n",
       "      <td>CVG</td>\n",
       "      <td>...</td>\n",
       "      <td>1711.0</td>\n",
       "      <td>0.0</td>\n",
       "      <td>0.0</td>\n",
       "      <td>6.0</td>\n",
       "      <td>1912</td>\n",
       "      <td>1926.0</td>\n",
       "      <td>14.0</td>\n",
       "      <td>0.0</td>\n",
       "      <td>0.0</td>\n",
       "      <td>4</td>\n",
       "    </tr>\n",
       "  </tbody>\n",
       "</table>\n",
       "<p>5 rows × 23 columns</p>\n",
       "</div>"
      ],
      "text/plain": [
       "   Year  Quarter  Month  DayofMonth  DayOfWeek  FlightDate  \\\n",
       "0  2021        1      1           2          6  2021-01-02   \n",
       "1  2021        1      1           3          7  2021-01-03   \n",
       "2  2021        1      1           4          1  2021-01-04   \n",
       "3  2021        1      1           7          4  2021-01-07   \n",
       "4  2021        1      1           8          5  2021-01-08   \n",
       "\n",
       "  Marketing_Airline_Network Operating_Airline   OriginAirportID Origin  ...  \\\n",
       "0                        DL                 9E            11193    CVG  ...   \n",
       "1                        DL                 9E            11193    CVG  ...   \n",
       "2                        DL                 9E            11193    CVG  ...   \n",
       "3                        DL                 9E            11193    CVG  ...   \n",
       "4                        DL                 9E            11193    CVG  ...   \n",
       "\n",
       "   DepTime DepDelayMinutes  DepDel15  TaxiIn  CRSArrTime  ArrTime  \\\n",
       "0    733.0             3.0       0.0    13.0         939    927.0   \n",
       "1    727.0             0.0       0.0    10.0         939    924.0   \n",
       "2    737.0             7.0       0.0     7.0         939    938.0   \n",
       "3   1710.0             0.0       0.0     5.0        1912   1911.0   \n",
       "4   1711.0             0.0       0.0     6.0        1912   1926.0   \n",
       "\n",
       "   ArrDelayMinutes  ArrDel15  Cancelled  DistanceGroup  \n",
       "0              0.0       0.0        0.0              4  \n",
       "1              0.0       0.0        0.0              4  \n",
       "2              0.0       0.0        0.0              4  \n",
       "3              0.0       0.0        0.0              4  \n",
       "4             14.0       0.0        0.0              4  \n",
       "\n",
       "[5 rows x 23 columns]"
      ]
     },
     "execution_count": 50,
     "metadata": {},
     "output_type": "execute_result"
    }
   ],
   "source": [
    "df.head()"
   ]
  },
  {
   "cell_type": "code",
   "execution_count": 51,
   "metadata": {},
   "outputs": [
    {
     "data": {
      "text/plain": [
       "(379384, 23)"
      ]
     },
     "execution_count": 51,
     "metadata": {},
     "output_type": "execute_result"
    }
   ],
   "source": [
    "df.shape"
   ]
  },
  {
   "cell_type": "markdown",
   "metadata": {},
   "source": [
    "# Remove flights that were cancelled"
   ]
  },
  {
   "cell_type": "code",
   "execution_count": 52,
   "metadata": {},
   "outputs": [],
   "source": [
    "cancelled_condition = (df['Cancelled']==1.0)\n",
    "df.drop(df[cancelled_condition].index,inplace=True)"
   ]
  },
  {
   "cell_type": "code",
   "execution_count": 53,
   "metadata": {},
   "outputs": [
    {
     "data": {
      "text/plain": [
       "(375229, 23)"
      ]
     },
     "execution_count": 53,
     "metadata": {},
     "output_type": "execute_result"
    }
   ],
   "source": [
    "df.shape"
   ]
  },
  {
   "cell_type": "markdown",
   "metadata": {},
   "source": [
    "# Filter Origin and Destination\n",
    "We have filtered the dataset to use only the top 15 busiest airport in the United States."
   ]
  },
  {
   "cell_type": "code",
   "execution_count": 54,
   "metadata": {},
   "outputs": [],
   "source": [
    "df = df[df[\"Origin\"].isin(airports_to_filter)]\n",
    "df = df[df[\"Dest\"].isin(airports_to_filter)]"
   ]
  },
  {
   "cell_type": "code",
   "execution_count": 55,
   "metadata": {},
   "outputs": [
    {
     "data": {
      "text/plain": [
       "(33937, 23)"
      ]
     },
     "execution_count": 55,
     "metadata": {},
     "output_type": "execute_result"
    }
   ],
   "source": [
    "df.shape"
   ]
  },
  {
   "cell_type": "markdown",
   "metadata": {},
   "source": [
    "# Function "
   ]
  },
  {
   "cell_type": "code",
   "execution_count": 56,
   "metadata": {},
   "outputs": [],
   "source": [
    "def eda(csv_file):\n",
    "    df = pd.read_csv('../datasets/Flights_2021/'+csv_file+'.csv', usecols=columns_to_use, index_col=False, low_memory=False)\n",
    "    # Remove cancelled flights\n",
    "    cancelled_condition = (df['Cancelled']==1.0)\n",
    "    df.drop(df[cancelled_condition].index,inplace=True)\n",
    "    # Filter by airport\n",
    "    df = df[df[\"Origin\"].isin(airports_to_filter)]\n",
    "    df = df[df[\"Dest\"].isin(airports_to_filter)]\n",
    "    df.drop(['Cancelled'], axis=1, inplace=True)\n",
    "    df.to_csv('../datasets/Flights_2021-eda1/'+csv_file+'.csv')\n",
    "    return csv_file"
   ]
  },
  {
   "cell_type": "code",
   "execution_count": 57,
   "metadata": {},
   "outputs": [
    {
     "name": "stdout",
     "output_type": "stream",
     "text": [
      "['Flights_2021_1', 'Flights_2021_2', 'Flights_2021_3', 'Flights_2021_4', 'Flights_2021_5', 'Flights_2021_6', 'Flights_2021_7', 'Flights_2021_8', 'Flights_2021_9', 'Flights_2021_10', 'Flights_2021_11', 'Flights_2021_12']\n"
     ]
    }
   ],
   "source": [
    "files = [f'Flights_2021_{i}' for i in range(1, 13)]\n",
    "print(files)"
   ]
  },
  {
   "cell_type": "code",
   "execution_count": 58,
   "metadata": {},
   "outputs": [],
   "source": [
    "for f in files:\n",
    "    eda(f)"
   ]
  },
  {
   "cell_type": "markdown",
   "metadata": {},
   "source": [
    "# Merge all csv to one"
   ]
  },
  {
   "cell_type": "code",
   "execution_count": 59,
   "metadata": {},
   "outputs": [
    {
     "name": "stdout",
     "output_type": "stream",
     "text": [
      "['../datasets/Flights_2021-eda1/Flights_2021_1.csv', '../datasets/Flights_2021-eda1/Flights_2021_2.csv', '../datasets/Flights_2021-eda1/Flights_2021_3.csv', '../datasets/Flights_2021-eda1/Flights_2021_4.csv', '../datasets/Flights_2021-eda1/Flights_2021_5.csv', '../datasets/Flights_2021-eda1/Flights_2021_6.csv', '../datasets/Flights_2021-eda1/Flights_2021_7.csv', '../datasets/Flights_2021-eda1/Flights_2021_8.csv', '../datasets/Flights_2021-eda1/Flights_2021_9.csv', '../datasets/Flights_2021-eda1/Flights_2021_10.csv', '../datasets/Flights_2021-eda1/Flights_2021_11.csv', '../datasets/Flights_2021-eda1/Flights_2021_12.csv']\n"
     ]
    }
   ],
   "source": [
    "file_paths = [f'../datasets/Flights_2021-eda1/Flights_2021_{i}.csv' for i in range(1,13)]\n",
    "print(file_paths)"
   ]
  },
  {
   "cell_type": "code",
   "execution_count": 60,
   "metadata": {},
   "outputs": [],
   "source": [
    "_df = [pd.read_csv(f) for f in file_paths]"
   ]
  },
  {
   "cell_type": "code",
   "execution_count": 61,
   "metadata": {},
   "outputs": [],
   "source": [
    "merged_df = pd.concat(_df, ignore_index=True)"
   ]
  },
  {
   "cell_type": "code",
   "execution_count": 62,
   "metadata": {},
   "outputs": [
    {
     "data": {
      "text/plain": [
       "(538051, 23)"
      ]
     },
     "execution_count": 62,
     "metadata": {},
     "output_type": "execute_result"
    }
   ],
   "source": [
    "merged_df.shape"
   ]
  },
  {
   "cell_type": "code",
   "execution_count": 63,
   "metadata": {},
   "outputs": [
    {
     "data": {
      "text/plain": [
       "Index(['Unnamed: 0', 'Year', 'Quarter', 'Month', 'DayofMonth', 'DayOfWeek',\n",
       "       'FlightDate', 'Marketing_Airline_Network', 'Operating_Airline ',\n",
       "       'OriginAirportID', 'Origin', 'DestAirportID', 'Dest', 'CRSDepTime',\n",
       "       'DepTime', 'DepDelayMinutes', 'DepDel15', 'TaxiIn', 'CRSArrTime',\n",
       "       'ArrTime', 'ArrDelayMinutes', 'ArrDel15', 'DistanceGroup'],\n",
       "      dtype='object')"
      ]
     },
     "execution_count": 63,
     "metadata": {},
     "output_type": "execute_result"
    }
   ],
   "source": [
    "merged_df.columns"
   ]
  },
  {
   "cell_type": "code",
   "execution_count": 64,
   "metadata": {},
   "outputs": [],
   "source": [
    "merged_df.drop(['Unnamed: 0'], axis=1, inplace=True)"
   ]
  },
  {
   "cell_type": "code",
   "execution_count": 65,
   "metadata": {},
   "outputs": [
    {
     "data": {
      "text/plain": [
       "(538051, 22)"
      ]
     },
     "execution_count": 65,
     "metadata": {},
     "output_type": "execute_result"
    }
   ],
   "source": [
    "merged_df.shape"
   ]
  },
  {
   "cell_type": "code",
   "execution_count": 66,
   "metadata": {},
   "outputs": [],
   "source": [
    "merged_df.to_csv('../datasets/flights_2021_all.csv')"
   ]
  },
  {
   "cell_type": "code",
   "execution_count": null,
   "metadata": {},
   "outputs": [],
   "source": []
  }
 ],
 "metadata": {
  "kernelspec": {
   "display_name": "env-ait-ml",
   "language": "python",
   "name": "python3"
  },
  "language_info": {
   "codemirror_mode": {
    "name": "ipython",
    "version": 3
   },
   "file_extension": ".py",
   "mimetype": "text/x-python",
   "name": "python",
   "nbconvert_exporter": "python",
   "pygments_lexer": "ipython3",
   "version": "3.8.17"
  }
 },
 "nbformat": 4,
 "nbformat_minor": 2
}
