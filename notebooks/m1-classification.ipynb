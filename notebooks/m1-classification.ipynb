{
 "cells": [
  {
   "cell_type": "code",
   "execution_count": 1,
   "metadata": {},
   "outputs": [],
   "source": [
    "import pandas as pd\n",
    "import numpy as np\n",
    "import matplotlib.pyplot as plt\n",
    "import seaborn as sns\n",
    "from sklearn.preprocessing import LabelEncoder\n",
    "from sklearn.model_selection import train_test_split\n",
    "import pickle\n",
    "from sklearn.linear_model import LogisticRegression\n",
    "from sklearn.ensemble import RandomForestClassifier\n",
    "from sklearn.model_selection import GridSearchCV\n",
    "from sklearn.metrics import classification_report,confusion_matrix\n",
    "from imblearn.over_sampling import SMOTE"
   ]
  },
  {
   "cell_type": "code",
   "execution_count": 2,
   "metadata": {},
   "outputs": [
    {
     "data": {
      "text/plain": [
       "(538040, 37)"
      ]
     },
     "execution_count": 2,
     "metadata": {},
     "output_type": "execute_result"
    }
   ],
   "source": [
    "df = pd.read_csv('../datasets/Flights_2021/final_dataset-add.csv')\n",
    "df.shape"
   ]
  },
  {
   "cell_type": "code",
   "execution_count": 3,
   "metadata": {},
   "outputs": [
    {
     "data": {
      "text/plain": [
       "0         1625\n",
       "1         1540\n",
       "2         1619\n",
       "3         1552\n",
       "4         1625\n",
       "          ... \n",
       "538035     520\n",
       "538036     655\n",
       "538037     500\n",
       "538038     525\n",
       "538039     515\n",
       "Name: CRSDepTime, Length: 538040, dtype: int64"
      ]
     },
     "execution_count": 3,
     "metadata": {},
     "output_type": "execute_result"
    }
   ],
   "source": [
    "df['CRSDepTime']"
   ]
  },
  {
   "cell_type": "code",
   "execution_count": 4,
   "metadata": {},
   "outputs": [
    {
     "data": {
      "text/plain": [
       "Index(['Unnamed: 0', 'Year', 'Quarter', 'Month', 'DayofMonth', 'DayOfWeek',\n",
       "       'FlightDate', 'Marketing_Airline_Network', 'Operating_Airline ',\n",
       "       'OriginAirportID', 'Origin', 'DestAirportID', 'Dest', 'CRSDepTime',\n",
       "       'DepTime', 'DepDelayMinutes', 'DepDel15', 'TaxiIn', 'CRSArrTime',\n",
       "       'ArrTime', 'ArrDelayMinutes', 'ArrDel15', 'DistanceGroup',\n",
       "       'CombinedDateTime', 'ScaledCRSDepTime', 'temperature_2m',\n",
       "       'relative_humidity_2m', 'dew_point_2m', 'precipitation', 'rain',\n",
       "       'snowfall', 'weather_code', 'surface_pressure', 'cloud_cover',\n",
       "       'wind_speed_10m', 'wind_direction_10m', 'wind_direction_100m'],\n",
       "      dtype='object')"
      ]
     },
     "execution_count": 4,
     "metadata": {},
     "output_type": "execute_result"
    }
   ],
   "source": [
    "df.columns"
   ]
  },
  {
   "cell_type": "code",
   "execution_count": 5,
   "metadata": {},
   "outputs": [],
   "source": [
    "df.drop(columns=[\"FlightDate\",\"OriginAirportID\",\"DestAirportID\",\"CRSArrTime\",\"Unnamed: 0\",\"CombinedDateTime\",\"ScaledCRSDepTime\"],\n",
    "        inplace=True)"
   ]
  },
  {
   "cell_type": "code",
   "execution_count": 6,
   "metadata": {},
   "outputs": [
    {
     "data": {
      "text/plain": [
       "Index(['Year', 'Quarter', 'Month', 'DayofMonth', 'DayOfWeek',\n",
       "       'Marketing_Airline_Network', 'Operating_Airline ', 'Origin', 'Dest',\n",
       "       'CRSDepTime', 'DepTime', 'DepDelayMinutes', 'DepDel15', 'TaxiIn',\n",
       "       'ArrTime', 'ArrDelayMinutes', 'ArrDel15', 'DistanceGroup',\n",
       "       'temperature_2m', 'relative_humidity_2m', 'dew_point_2m',\n",
       "       'precipitation', 'rain', 'snowfall', 'weather_code', 'surface_pressure',\n",
       "       'cloud_cover', 'wind_speed_10m', 'wind_direction_10m',\n",
       "       'wind_direction_100m'],\n",
       "      dtype='object')"
      ]
     },
     "execution_count": 6,
     "metadata": {},
     "output_type": "execute_result"
    }
   ],
   "source": [
    "df.columns"
   ]
  },
  {
   "cell_type": "code",
   "execution_count": 7,
   "metadata": {},
   "outputs": [],
   "source": [
    "df = df[df['ArrDel15'].notna()]"
   ]
  },
  {
   "cell_type": "code",
   "execution_count": 8,
   "metadata": {},
   "outputs": [],
   "source": [
    "for col in df.columns:\n",
    "    if df[col].isna().sum()>0:\n",
    "        print(col)"
   ]
  },
  {
   "cell_type": "markdown",
   "metadata": {},
   "source": [
    "# Replace LabelEncoder with inbuilt Encoding"
   ]
  },
  {
   "cell_type": "code",
   "execution_count": 238,
   "metadata": {},
   "outputs": [],
   "source": [
    "airportLabel = [\n",
    "    {\"id\": 0, \"code\": \"BWI\"},\n",
    "    {\"id\": 1, \"code\": \"CLT\"},\n",
    "    {\"id\": 2, \"code\": \"DEN\"},\n",
    "    {\"id\": 3, \"code\": \"DFW\"},\n",
    "    {\"id\": 4, \"code\": \"DTW\"},\n",
    "    {\"id\": 5, \"code\": \"IAH\"},\n",
    "    {\"id\": 6, \"code\": \"LAX\"},\n",
    "    {\"id\": 7, \"code\": \"MDW\"},\n",
    "    {\"id\": 8, \"code\": \"ORD\"},\n",
    "    {\"id\": 9, \"code\": \"PHL\"},\n",
    "    {\"id\": 10, \"code\": \"PHX\"},\n",
    "    {\"id\": 11, \"code\": \"SEA\"},\n",
    "    {\"id\": 12, \"code\": \"SFO\"},\n",
    "    {\"id\": 13, \"code\": \"SLC\"}\n",
    "]\n",
    "\n",
    "airport_mapping = {airport['code']: airport['id'] for airport in airportLabel}\n",
    "\n",
    "\n",
    "# Replace Origin and Dest columns with corresponding ids\n",
    "df['Origin'] = df['Origin'].map(airport_mapping)\n",
    "df['Dest'] = df['Dest'].map(airport_mapping)\n",
    "\n",
    "\n",
    "# labelEncoder = LabelEncoder()\n",
    "# df[\"Origin\"] = labelEncoder.fit_transform(df[\"Origin\"])\n",
    "# df[\"Dest\"] = labelEncoder.fit_transform(df[\"Dest\"])\n",
    "\n"
   ]
  },
  {
   "cell_type": "code",
   "execution_count": 239,
   "metadata": {},
   "outputs": [
    {
     "data": {
      "text/plain": [
       "0          3\n",
       "1          3\n",
       "2          3\n",
       "3          3\n",
       "4          3\n",
       "          ..\n",
       "538035     5\n",
       "538036     9\n",
       "538037    12\n",
       "538038    12\n",
       "538039    10\n",
       "Name: Origin, Length: 536982, dtype: int64"
      ]
     },
     "execution_count": 239,
     "metadata": {},
     "output_type": "execute_result"
    }
   ],
   "source": [
    "df['Origin']"
   ]
  },
  {
   "cell_type": "code",
   "execution_count": 240,
   "metadata": {},
   "outputs": [
    {
     "data": {
      "text/html": [
       "<style>#sk-container-id-11 {color: black;}#sk-container-id-11 pre{padding: 0;}#sk-container-id-11 div.sk-toggleable {background-color: white;}#sk-container-id-11 label.sk-toggleable__label {cursor: pointer;display: block;width: 100%;margin-bottom: 0;padding: 0.3em;box-sizing: border-box;text-align: center;}#sk-container-id-11 label.sk-toggleable__label-arrow:before {content: \"▸\";float: left;margin-right: 0.25em;color: #696969;}#sk-container-id-11 label.sk-toggleable__label-arrow:hover:before {color: black;}#sk-container-id-11 div.sk-estimator:hover label.sk-toggleable__label-arrow:before {color: black;}#sk-container-id-11 div.sk-toggleable__content {max-height: 0;max-width: 0;overflow: hidden;text-align: left;background-color: #f0f8ff;}#sk-container-id-11 div.sk-toggleable__content pre {margin: 0.2em;color: black;border-radius: 0.25em;background-color: #f0f8ff;}#sk-container-id-11 input.sk-toggleable__control:checked~div.sk-toggleable__content {max-height: 200px;max-width: 100%;overflow: auto;}#sk-container-id-11 input.sk-toggleable__control:checked~label.sk-toggleable__label-arrow:before {content: \"▾\";}#sk-container-id-11 div.sk-estimator input.sk-toggleable__control:checked~label.sk-toggleable__label {background-color: #d4ebff;}#sk-container-id-11 div.sk-label input.sk-toggleable__control:checked~label.sk-toggleable__label {background-color: #d4ebff;}#sk-container-id-11 input.sk-hidden--visually {border: 0;clip: rect(1px 1px 1px 1px);clip: rect(1px, 1px, 1px, 1px);height: 1px;margin: -1px;overflow: hidden;padding: 0;position: absolute;width: 1px;}#sk-container-id-11 div.sk-estimator {font-family: monospace;background-color: #f0f8ff;border: 1px dotted black;border-radius: 0.25em;box-sizing: border-box;margin-bottom: 0.5em;}#sk-container-id-11 div.sk-estimator:hover {background-color: #d4ebff;}#sk-container-id-11 div.sk-parallel-item::after {content: \"\";width: 100%;border-bottom: 1px solid gray;flex-grow: 1;}#sk-container-id-11 div.sk-label:hover label.sk-toggleable__label {background-color: #d4ebff;}#sk-container-id-11 div.sk-serial::before {content: \"\";position: absolute;border-left: 1px solid gray;box-sizing: border-box;top: 0;bottom: 0;left: 50%;z-index: 0;}#sk-container-id-11 div.sk-serial {display: flex;flex-direction: column;align-items: center;background-color: white;padding-right: 0.2em;padding-left: 0.2em;position: relative;}#sk-container-id-11 div.sk-item {position: relative;z-index: 1;}#sk-container-id-11 div.sk-parallel {display: flex;align-items: stretch;justify-content: center;background-color: white;position: relative;}#sk-container-id-11 div.sk-item::before, #sk-container-id-11 div.sk-parallel-item::before {content: \"\";position: absolute;border-left: 1px solid gray;box-sizing: border-box;top: 0;bottom: 0;left: 50%;z-index: -1;}#sk-container-id-11 div.sk-parallel-item {display: flex;flex-direction: column;z-index: 1;position: relative;background-color: white;}#sk-container-id-11 div.sk-parallel-item:first-child::after {align-self: flex-end;width: 50%;}#sk-container-id-11 div.sk-parallel-item:last-child::after {align-self: flex-start;width: 50%;}#sk-container-id-11 div.sk-parallel-item:only-child::after {width: 0;}#sk-container-id-11 div.sk-dashed-wrapped {border: 1px dashed gray;margin: 0 0.4em 0.5em 0.4em;box-sizing: border-box;padding-bottom: 0.4em;background-color: white;}#sk-container-id-11 div.sk-label label {font-family: monospace;font-weight: bold;display: inline-block;line-height: 1.2em;}#sk-container-id-11 div.sk-label-container {text-align: center;}#sk-container-id-11 div.sk-container {/* jupyter's `normalize.less` sets `[hidden] { display: none; }` but bootstrap.min.css set `[hidden] { display: none !important; }` so we also need the `!important` here to be able to override the default hidden behavior on the sphinx rendered scikit-learn.org. See: https://github.com/scikit-learn/scikit-learn/issues/21755 */display: inline-block !important;position: relative;}#sk-container-id-11 div.sk-text-repr-fallback {display: none;}</style><div id=\"sk-container-id-11\" class=\"sk-top-container\"><div class=\"sk-text-repr-fallback\"><pre>RandomForestClassifier(criterion=&#x27;entropy&#x27;, n_jobs=-1, random_state=42)</pre><b>In a Jupyter environment, please rerun this cell to show the HTML representation or trust the notebook. <br />On GitHub, the HTML representation is unable to render, please try loading this page with nbviewer.org.</b></div><div class=\"sk-container\" hidden><div class=\"sk-item\"><div class=\"sk-estimator sk-toggleable\"><input class=\"sk-toggleable__control sk-hidden--visually\" id=\"sk-estimator-id-11\" type=\"checkbox\" checked><label for=\"sk-estimator-id-11\" class=\"sk-toggleable__label sk-toggleable__label-arrow\">RandomForestClassifier</label><div class=\"sk-toggleable__content\"><pre>RandomForestClassifier(criterion=&#x27;entropy&#x27;, n_jobs=-1, random_state=42)</pre></div></div></div></div></div>"
      ],
      "text/plain": [
       "RandomForestClassifier(criterion='entropy', n_jobs=-1, random_state=42)"
      ]
     },
     "execution_count": 240,
     "metadata": {},
     "output_type": "execute_result"
    }
   ],
   "source": [
    "X = df[[\"Origin\", \"Dest\", \"CRSDepTime\", \"DepDel15\", 'temperature_2m', 'dew_point_2m',\n",
    "       'precipitation','cloud_cover','wind_direction_100m']]\n",
    "y =  np.array(df.loc[:, df.columns == \"ArrDel15\"][\"ArrDel15\"])\n",
    "\n",
    "model = RandomForestClassifier(n_estimators=100,\n",
    "                      criterion=\"entropy\", random_state=42, n_jobs=-1)\n",
    "\n",
    "model.fit(X, y)"
   ]
  },
  {
   "cell_type": "code",
   "execution_count": 241,
   "metadata": {},
   "outputs": [],
   "source": [
    "importances = model.feature_importances_\n",
    "# importances"
   ]
  },
  {
   "cell_type": "code",
   "execution_count": 242,
   "metadata": {},
   "outputs": [
    {
     "data": {
      "image/png": "[encoded data removed]",
      "text/plain": [
       "<Figure size 800x600 with 1 Axes>"
      ]
     },
     "metadata": {},
     "output_type": "display_data"
    }
   ],
   "source": [
    "importances = pd.DataFrame({\n",
    "    \"Feature\": list(X.columns),\n",
    "    \"Importance\": model.feature_importances_\n",
    "})\n",
    "importances = importances.sort_values(by=\"Importance\", ascending=False)\n",
    "importances = importances.set_index(\"Feature\")\n",
    "importances\n",
    "plt.figure(figsize=(8, 6))\n",
    "plt.barh(importances.index, importances.Importance)\n",
    "plt.title(\"Feature Importance Ranking obtained from Random Forest Classifier\", fontsize=12)\n",
    "plt.xlabel(\"Importances\")\n",
    "plt.ylabel(\"Features\")\n",
    "plt.show()"
   ]
  },
  {
   "cell_type": "code",
   "execution_count": 243,
   "metadata": {},
   "outputs": [],
   "source": [
    "# labelEncoder = LabelEncoder()\n",
    "# df[\"Origin\"] = labelEncoder.fit_transform(df[\"Origin\"])\n",
    "# df[\"Dest\"] = labelEncoder.fit_transform(df[\"Dest\"])\n",
    "# df[[\"Origin\", \"Dest\"]]"
   ]
  },
  {
   "cell_type": "code",
   "execution_count": 244,
   "metadata": {},
   "outputs": [
    {
     "name": "stdout",
     "output_type": "stream",
     "text": [
      "\n",
      "Dataset shape: (536982, 30)\n",
      "X train shape: (375887, 9) | Y train shape: (375887,)\n",
      "X test shape: (161095, 9) | Y test shape: (161095,)\n"
     ]
    }
   ],
   "source": [
    "print(f\"\\nDataset shape: {df.shape}\")\n",
    "X_train, X_test, y_train, y_test = train_test_split= train_test_split(X, y, test_size=0.3, random_state=42)\n",
    "print(f\"X train shape: {X_train.shape} | Y train shape: {y_train.shape}\")\n",
    "print(f\"X test shape: {X_test.shape} | Y test shape: {y_test.shape}\")"
   ]
  },
  {
   "cell_type": "code",
   "execution_count": 245,
   "metadata": {},
   "outputs": [],
   "source": [
    "import warnings\n",
    "warnings.filterwarnings(\"ignore\")"
   ]
  },
  {
   "cell_type": "markdown",
   "metadata": {},
   "source": [
    "# Logistic Regression with class imbalance"
   ]
  },
  {
   "cell_type": "code",
   "execution_count": 246,
   "metadata": {},
   "outputs": [
    {
     "name": "stdout",
     "output_type": "stream",
     "text": [
      "===Classification report===\n",
      "Report:                precision    recall  f1-score   support\n",
      "\n",
      "         0.0       0.95      0.94      0.95    133205\n",
      "         1.0       0.74      0.77      0.75     27890\n",
      "\n",
      "    accuracy                           0.91    161095\n",
      "   macro avg       0.85      0.86      0.85    161095\n",
      "weighted avg       0.91      0.91      0.91    161095\n",
      "\n"
     ]
    },
    {
     "data": {
      "image/png": "[encoded data removed]",
      "text/plain": [
       "<Figure size 800x600 with 2 Axes>"
      ]
     },
     "metadata": {},
     "output_type": "display_data"
    }
   ],
   "source": [
    "param_grid = {\n",
    "    'C': [0.01, 0.1],  \n",
    "    'penalty': ['l1', 'l2'],  \n",
    "    'solver': ['liblinear', 'saga']  \n",
    "}\n",
    "logreg_model = LogisticRegression(max_iter=100)\n",
    "\n",
    "grid_search = GridSearchCV(logreg_model, param_grid, cv=5)\n",
    "\n",
    "grid_search.fit(X_train, y_train)\n",
    "# save the model\n",
    "filename = '../models/classification-logistic-c-imbalance.pkl' \n",
    "pickle.dump(grid_search, open(filename,'wb'))\n",
    "best_logreg_model = grid_search.best_estimator_\n",
    "yhat = best_logreg_model.predict(X_test)\n",
    "\n",
    "print(\"===Classification report===\")\n",
    "print(\"Report: \", classification_report(y_test, yhat))\n",
    "\n",
    "\n",
    "cm = confusion_matrix(y_test, yhat)\n",
    "plt.figure(figsize=(8, 6))\n",
    "sns.heatmap(cm, annot=True, fmt=\"d\", cmap=\"Blues\", xticklabels=[\"Class 0\", \"Class 1\"], yticklabels=[\"Class 0\", \"Class 1\"])\n",
    "plt.title(\"Confusion Matrix\")\n",
    "plt.xlabel(\"Predicted\")\n",
    "plt.ylabel(\"Actual\")\n",
    "plt.show()"
   ]
  },
  {
   "cell_type": "markdown",
   "metadata": {},
   "source": [
    "# Assure the class is balanced"
   ]
  },
  {
   "cell_type": "code",
   "execution_count": 247,
   "metadata": {},
   "outputs": [],
   "source": [
    "smote = SMOTE(random_state=42)\n",
    "features_train, labels_train = smote.fit_resample(X_train, y_train)"
   ]
  },
  {
   "cell_type": "code",
   "execution_count": 248,
   "metadata": {},
   "outputs": [
    {
     "data": {
      "text/plain": [
       "(620410, 9)"
      ]
     },
     "execution_count": 248,
     "metadata": {},
     "output_type": "execute_result"
    }
   ],
   "source": [
    "features_train.shape"
   ]
  },
  {
   "cell_type": "code",
   "execution_count": 249,
   "metadata": {},
   "outputs": [
    {
     "data": {
      "text/plain": [
       "(620410,)"
      ]
     },
     "execution_count": 249,
     "metadata": {},
     "output_type": "execute_result"
    }
   ],
   "source": [
    "labels_train.shape"
   ]
  },
  {
   "cell_type": "code",
   "execution_count": 250,
   "metadata": {},
   "outputs": [
    {
     "name": "stdout",
     "output_type": "stream",
     "text": [
      "Element 0.0 occurs 310205 times.\n",
      "Element 1.0 occurs 310205 times.\n"
     ]
    }
   ],
   "source": [
    "from collections import Counter\n",
    "element_counts = Counter(labels_train)\n",
    "\n",
    "for element, count in element_counts.items():\n",
    "    print(f\"Element {element} occurs {count} times.\")"
   ]
  },
  {
   "cell_type": "markdown",
   "metadata": {},
   "source": [
    "# LogisticRegression with class balanced SMOTE generated data"
   ]
  },
  {
   "cell_type": "code",
   "execution_count": 251,
   "metadata": {},
   "outputs": [],
   "source": [
    "param_grid = {\n",
    "    'C': [0.01, 0.1],  \n",
    "    'penalty': ['l1', 'l2'],  \n",
    "    'solver': ['liblinear', 'saga']  \n",
    "}\n",
    "logreg_model = LogisticRegression(max_iter=100)\n",
    "\n",
    "\n",
    "\n",
    "grid_search = GridSearchCV(logreg_model, param_grid, cv=5)\n",
    "grid_search.fit(features_train, labels_train)\n",
    "\n",
    "# save the model\n",
    "filename = '../model/classification-logistic-c-balance.pkl' \n",
    "pickle.dump(logreg_model, open(filename,'wb'))\n",
    "\n",
    "best_logreg_model = grid_search.best_estimator_\n",
    "yhat = best_logreg_model.predict(X_test)\n",
    "\n",
    "\n",
    "print(\"===Classification report===\")\n",
    "print(\"Report: \", classification_report(y_test, yhat))\n",
    "\n",
    "\n",
    "cm = confusion_matrix(y_test, yhat)\n",
    "plt.figure(figsize=(8, 6))\n",
    "sns.heatmap(cm, annot=True, fmt=\"d\", cmap=\"Blues\", xticklabels=[\"Class 0\", \"Class 1\"], yticklabels=[\"Class 0\", \"Class 1\"])\n",
    "plt.title(\"Confusion Matrix\")\n",
    "plt.xlabel(\"Predicted\")\n",
    "plt.ylabel(\"Actual\")\n",
    "plt.show()"
   ]
  },
  {
   "cell_type": "markdown",
   "metadata": {},
   "source": [
    "# RandomForestClassifier with class balanced SMOTE generated data"
   ]
  },
  {
   "cell_type": "code",
   "execution_count": null,
   "metadata": {},
   "outputs": [],
   "source": [
    "param_grid_rf = {\n",
    "    'n_estimators': [50, 75],\n",
    "    'max_depth': [None, 10, 5],\n",
    "    'min_samples_split': [2, 5],\n",
    "    'min_samples_leaf': [1, 2]\n",
    "}\n",
    "\n",
    "# Create the Random Forest model\n",
    "rf_model = RandomForestClassifier()\n",
    "\n",
    "\n",
    "\n",
    "# Perform grid search with cross-validation\n",
    "grid_search_rf = GridSearchCV(rf_model, param_grid_rf, cv=5)\n",
    "grid_search_rf.fit(features_train, labels_train)\n",
    "\n",
    "filename = '../model/classification-rf-c-balance.pkl' \n",
    "pickle.dump(rf_model, open(filename,'wb'))\n",
    "\n",
    "# Get the best Random Forest model from the grid search\n",
    "best_rf_model = grid_search_rf.best_estimator_\n",
    "\n",
    "# Make predictions on the test set\n",
    "yhat_rf = best_rf_model.predict(X_test)\n",
    "\n",
    "# Display classification report\n",
    "print(\"=== Classification report ===\")\n",
    "print(\"Report: \", classification_report(y_test, yhat_rf))\n",
    "\n",
    "cm = confusion_matrix(y_test, yhat)\n",
    "plt.figure(figsize=(8, 6))\n",
    "sns.heatmap(cm, annot=True, fmt=\"d\", cmap=\"Blues\", xticklabels=[\"Class 0\", \"Class 1\"], yticklabels=[\"Class 0\", \"Class 1\"])\n",
    "plt.title(\"Confusion Matrix\")\n",
    "plt.xlabel(\"Predicted\")\n",
    "plt.ylabel(\"Actual\")\n",
    "plt.show()\n",
    "del rf_model\n",
    "del yhat_rf\n"
   ]
  },
  {
   "cell_type": "code",
   "execution_count": null,
   "metadata": {},
   "outputs": [],
   "source": []
  },
  {
   "cell_type": "code",
   "execution_count": null,
   "metadata": {},
   "outputs": [],
   "source": []
  }
 ],
 "metadata": {
  "kernelspec": {
   "display_name": "env-ait-ml",
   "language": "python",
   "name": "python3"
  },
  "language_info": {
   "codemirror_mode": {
    "name": "ipython",
    "version": 3
   },
   "file_extension": ".py",
   "mimetype": "text/x-python",
   "name": "python",
   "nbconvert_exporter": "python",
   "pygments_lexer": "ipython3",
   "version": "3.8.17"
  }
 },
 "nbformat": 4,
 "nbformat_minor": 2
}
